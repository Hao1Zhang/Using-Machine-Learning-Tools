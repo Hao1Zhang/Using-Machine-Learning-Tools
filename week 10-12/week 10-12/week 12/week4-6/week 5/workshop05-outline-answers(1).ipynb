{
 "cells": [
  {
   "cell_type": "markdown",
   "metadata": {},
   "source": [
    "# Workshop 5\n",
    "\n",
    "Starter code for workshop 5. You should have seen most of it before, but make sure you understand what it is doing!"
   ]
  },
  {
   "cell_type": "code",
   "execution_count": 1,
   "metadata": {},
   "outputs": [],
   "source": [
    "# Python ≥3.5 is required\n",
    "import sys\n",
    "assert sys.version_info >= (3, 5)\n",
    "\n",
    "# Scikit-Learn ≥0.20 is required\n",
    "import sklearn\n",
    "assert sklearn.__version__ >= \"0.20\"\n",
    "\n",
    "# Common imports\n",
    "import numpy as np\n",
    "import os\n",
    "\n",
    "# To plot pretty figures\n",
    "%matplotlib inline\n",
    "import matplotlib as mpl\n",
    "import matplotlib.pyplot as plt\n",
    "mpl.rc('axes', labelsize=14)\n",
    "mpl.rc('xtick', labelsize=12)\n",
    "mpl.rc('ytick', labelsize=12)\n",
    "\n",
    "# To plot even prettier figures\n",
    "import seaborn as sn\n",
    "\n",
    "# General data handling (pure numerics are better in numpy)\n",
    "import pandas as pd"
   ]
  },
  {
   "cell_type": "code",
   "execution_count": 2,
   "metadata": {},
   "outputs": [],
   "source": [
    "from sklearn.datasets import load_breast_cancer\n",
    "data = load_breast_cancer()"
   ]
  },
  {
   "cell_type": "code",
   "execution_count": 3,
   "metadata": {},
   "outputs": [
    {
     "name": "stdout",
     "output_type": "stream",
     "text": [
      "(569, 30)\n",
      "(569,)\n",
      "(569, 31)\n"
     ]
    }
   ],
   "source": [
    "xarray = data.data\n",
    "yarray = data.target\n",
    "print(xarray.shape)\n",
    "print(yarray.shape)\n",
    "fullarray = np.concatenate((xarray,np.reshape(yarray,(-1,1))),axis=1)\n",
    "print(fullarray.shape)\n",
    "\n",
    "#    print(yarray.shape) -> output (569行，每行30个值)，shape值(569,)，意思是一维数组，数组中有569个元素\n",
    "#    y是一个两行三列的二维数组，y.shape[0]代表行数，y.shape[1]代表列数。\n",
    "#    concatenate() 函数，数组拼接。\n",
    "#   reshape（）数组重新排序 e.g reshape(两行，4 列)所以reshape(-1,1)表示（任意行，1列）\n",
    "#  （-1，1）代表，-1代表任意正数数量，1代表每行1个值。\n",
    "#  【axis=0】当axis=0 时，数组按照行进行拼接；当axis=1 时数组按照列进行拼接。;"
   ]
  },
  {
   "cell_type": "code",
   "execution_count": 4,
   "metadata": {},
   "outputs": [],
   "source": [
    "fullarray[:,-1] = 1 - fullarray[:,-1]   # now invert the labels (so that malignant=1)\n",
    "df = pd.DataFrame(fullarray,columns = list(data.feature_names) + ['target'])\n",
    "\n",
    "\n"
   ]
  },
  {
   "cell_type": "markdown",
   "metadata": {},
   "source": [
    "The code below is incomplete and will require some editing to work ..."
   ]
  },
  {
   "cell_type": "markdown",
   "metadata": {},
   "source": [
    "# Splitting into separate datasets"
   ]
  },
  {
   "cell_type": "code",
   "execution_count": 5,
   "metadata": {},
   "outputs": [],
   "source": [
    "from sklearn.model_selection import train_test_split\n",
    "# test_size表示切分的训练集和测试集的比例\n",
    "#random_state。让每次随机出现的数字都是固定的，而不是一直改变的数字。\n",
    "# stratify=fullarray[:,-1]则训练集和测试集中的数据分类比例将与xxxxxxx一致\n",
    "\n",
    "bigtrain_set, test_set = train_test_split(fullarray, test_size=0.2, random_state=42, stratify=fullarray[:,-1])\n",
    "train_set, val_set = train_test_split(bigtrain_set, test_size=0.2, random_state=42, stratify=bigtrain_set[:,-1])"
   ]
  },
  {
   "cell_type": "code",
   "execution_count": 6,
   "metadata": {},
   "outputs": [],
   "source": [
    "#注意：这里我们使用stratify option,分层选项，它分割集合，同时试图保持每个集合中分类标签的比例相同（因此需要知道标签）。\n",
    "#这是在大多数分类任务中使用的一个重要选项（如果您将数据划分为离散集只是为了分层，例如小、中、大值，它也可以用于回归）。"
   ]
  },
  {
   "cell_type": "markdown",
   "metadata": {},
   "source": [
    "### **Note:** here we use the *stratify* option, which splits the sets whilst trying to keep the same proportions of the classification labels in each (hence it needs to know the labels). This is an important option to use in most classification tasks (and it can also be used for regression if you divide the data into discrete sets just for stratifying, such as small, medium, large values)."
   ]
  },
  {
   "cell_type": "code",
   "execution_count": 7,
   "metadata": {},
   "outputs": [
    {
     "name": "stdout",
     "output_type": "stream",
     "text": [
      "Shapes are [(364, 30), (364,), (114, 30), (114,), (91, 30), (91,)]\n"
     ]
    }
   ],
   "source": [
    "X_train = train_set[:,:-1]\n",
    "y_train = train_set[:,-1]\n",
    "X_test = test_set[:,:-1]\n",
    "y_test = test_set[:,-1]\n",
    "X_val = val_set[:,:-1]\n",
    "y_val = val_set[:,-1]\n",
    "print(f'Shapes are {[X_train.shape,y_train.shape,X_test.shape,y_test.shape,X_val.shape,y_val.shape]}')"
   ]
  },
  {
   "cell_type": "code",
   "execution_count": 8,
   "metadata": {},
   "outputs": [
    {
     "name": "stdout",
     "output_type": "stream",
     "text": [
      "0.37362637362637363 0.3684210526315789 0.37362637362637363\n"
     ]
    }
   ],
   "source": [
    "#mean 计算平均值\n",
    "print(np.mean(y_train),np.mean(y_test),np.mean(y_val))"
   ]
  },
  {
   "cell_type": "markdown",
   "metadata": {},
   "source": [
    "# Pipeline"
   ]
  },
  {
   "cell_type": "code",
   "execution_count": 9,
   "metadata": {},
   "outputs": [],
   "source": [
    "from sklearn.pipeline import Pipeline\n",
    "from sklearn.preprocessing import StandardScaler\n",
    "from sklearn.impute import SimpleImputer\n",
    "\n",
    "preproc_pl = Pipeline([ ('imputer', SimpleImputer(strategy=\"median\")), \n",
    "                        ('std_scaler', StandardScaler()) ])"
   ]
  },
  {
   "cell_type": "markdown",
   "metadata": {},
   "source": [
    "# SGD Classifier"
   ]
  },
  {
   "cell_type": "code",
   "execution_count": 10,
   "metadata": {},
   "outputs": [],
   "source": [
    "from sklearn.linear_model import SGDClassifier\n",
    "from sklearn.metrics import accuracy_score, hinge_loss"
   ]
  },
  {
   "cell_type": "code",
   "execution_count": 12,
   "metadata": {},
   "outputs": [
    {
     "ename": "SyntaxError",
     "evalue": "invalid syntax (3786350495.py, line 19)",
     "output_type": "error",
     "traceback": [
      "\u001b[0;36m  File \u001b[0;32m\"/var/folders/pc/6d606khj3jz573zj08smmc700000gn/T/ipykernel_8552/3786350495.py\"\u001b[0;36m, line \u001b[0;32m19\u001b[0m\n\u001b[0;31m    X_trainp = preproc_pl..??..(X_train)\u001b[0m\n\u001b[0m                          ^\u001b[0m\n\u001b[0;31mSyntaxError\u001b[0m\u001b[0;31m:\u001b[0m invalid syntax\n"
     ]
    }
   ],
   "source": [
    "# You will need to have modified this to allow more options to be passed into the initialisation of the sgd\n",
    "# In the code below you will see some of the options that I've passed in, but you are free to choose your own\n",
    "\n",
    "#Q1\n",
    "#使train:validation:test的比率为60:20:20（在提供的两个步骤中考虑如何做到这一点）。\n",
    "\n",
    "\n",
    "#在此之后，构建一个预处理管道，然后定义一个名为sgdfn的函数。该函数创建一个SGD分类器，并使用partial_fit方法从循环中一次调用一个历元。\n",
    "#SGD分类器需要使用warm_start=True选项，以便使partial_fit方法以这种方式工作。（请注意，一个历元是对所有训练数据的一次遍历，\n",
    "#而一次迭代是对一批训练数据的一次遍历。一批是训练数据的较小子集，\n",
    "#尽管在我们的例子中，它们与我们不将这个小数据集拆分为较小的批相同，因为我们不需要。）\n",
    "\n",
    "\n",
    "\n",
    "\n",
    "#add more para \n",
    "def sgdfn(nsamp, learnrate):\n",
    "    sgd = SGDClassifier(warm_start=True, learning_rate='constant', eta0=learnrate)\n",
    "    X_trainp = preproc_pl..??..(X_train)\n",
    "    X_valp = preproc_pl..??..(X_val)\n",
    "    res=[]\n",
    "\n",
    "    for n in range(1000):\n",
    "        sgd.partial_fit(X_trainp[???],y_train[???],classes=[0,1])\n",
    "        y_val_pred = sgd.predict(X_valp)\n",
    "        sgd_acc = accuracy_score(???,???)\n",
    "        sgd_loss = hinge_loss(????)\n",
    "        res += [[sgd_acc,sgd_loss]]\n",
    "\n",
    "    res = np.array(res)\n",
    "\n",
    "    plt.figure(figsize=(10,4))#figsize可以指定图片的大小\n",
    "    plt.subplot(121) #第一个代表行数，第二个代表列数，第三个代表索引位置。举个列子：plt.subplot(2, 3, 5) 和 plt.subplot(235) \n",
    "    plt.plot(res[:,0])#第一列所有值\n",
    "    plt.title('Accuracy')\n",
    "    plt.xlabel('Epoch')\n",
    "    plt.subplot(122)\n",
    "    plt.plot(res[:,1])#第二列所有值\n",
    "    plt.title('Loss')\n",
    "    plt.xlabel('Epoch')\n",
    "    plt.show()\n",
    "\n",
    "    return [res[-1,0],res[-1,1]]\n",
    "\n",
    "\n"
   ]
  },
  {
   "cell_type": "markdown",
   "metadata": {},
   "source": [
    "## Part 1: Initial fitting"
   ]
  },
  {
   "cell_type": "code",
   "execution_count": 69,
   "metadata": {},
   "outputs": [
    {
     "ename": "NameError",
     "evalue": "name 'X_train' is not defined",
     "output_type": "error",
     "traceback": [
      "\u001b[0;31m---------------------------------------------------------------------------\u001b[0m",
      "\u001b[0;31mNameError\u001b[0m                                 Traceback (most recent call last)",
      "\u001b[0;32m/var/folders/pc/6d606khj3jz573zj08smmc700000gn/T/ipykernel_12731/3180248165.py\u001b[0m in \u001b[0;36m<module>\u001b[0;34m\u001b[0m\n\u001b[0;32m----> 1\u001b[0;31m \u001b[0mntrain\u001b[0m \u001b[0;34m=\u001b[0m \u001b[0mX_train\u001b[0m\u001b[0;34m.\u001b[0m\u001b[0mshape\u001b[0m\u001b[0;34m[\u001b[0m\u001b[0;36m0\u001b[0m\u001b[0;34m]\u001b[0m\u001b[0;34m\u001b[0m\u001b[0;34m\u001b[0m\u001b[0m\n\u001b[0m\u001b[1;32m      2\u001b[0m \u001b[0msgdfn\u001b[0m\u001b[0;34m(\u001b[0m\u001b[0mntrain\u001b[0m\u001b[0;34m,\u001b[0m\u001b[0;36m1e-5\u001b[0m\u001b[0;34m)\u001b[0m\u001b[0;34m\u001b[0m\u001b[0;34m\u001b[0m\u001b[0m\n",
      "\u001b[0;31mNameError\u001b[0m: name 'X_train' is not defined"
     ]
    }
   ],
   "source": [
    "ntrain = X_train.shape[0]\n",
    "sgdfn(ntrain,1e-5)\n",
    "#Q1-最后一个问\n",
    "#在执行该循环之前，有必要将预处理适应于训练集，然后转换训练和验证数据集。要做到这一点，您需要填写适当的电话。\n",
    "#在循环中，对验证数据调用预测函数，然后计算 精度 和 损失 （铰链损失）。为这些步骤填写必要的代码。\n",
    "#循环结束后，绘制 精度 和 损耗 ，这些是学习曲线。\n",
    "#在nsamp设置为训练集的最大值，learn rate设置为1e-5的情况下调用函数。"
   ]
  },
  {
   "cell_type": "markdown",
   "metadata": {},
   "source": [
    "## Part 2: Exploring different learning rates"
   ]
  },
  {
   "cell_type": "code",
   "execution_count": 70,
   "metadata": {
    "tags": []
   },
   "outputs": [
    {
     "name": "stdout",
     "output_type": "stream",
     "text": [
      "Learning rate = 1e-08\n"
     ]
    },
    {
     "ename": "NameError",
     "evalue": "name 'sgdfn' is not defined",
     "output_type": "error",
     "traceback": [
      "\u001b[0;31m---------------------------------------------------------------------------\u001b[0m",
      "\u001b[0;31mNameError\u001b[0m                                 Traceback (most recent call last)",
      "\u001b[0;32m/var/folders/pc/6d606khj3jz573zj08smmc700000gn/T/ipykernel_12731/1831847525.py\u001b[0m in \u001b[0;36m<module>\u001b[0;34m\u001b[0m\n\u001b[1;32m      3\u001b[0m     \u001b[0mlr\u001b[0m \u001b[0;34m=\u001b[0m \u001b[0;36m10.0\u001b[0m\u001b[0;34m**\u001b[0m\u001b[0mlr_exp\u001b[0m\u001b[0;34m\u001b[0m\u001b[0;34m\u001b[0m\u001b[0m\n\u001b[1;32m      4\u001b[0m     \u001b[0mprint\u001b[0m\u001b[0;34m(\u001b[0m\u001b[0;34mf'Learning rate = {lr}'\u001b[0m\u001b[0;34m)\u001b[0m\u001b[0;34m\u001b[0m\u001b[0;34m\u001b[0m\u001b[0m\n\u001b[0;32m----> 5\u001b[0;31m     \u001b[0mres\u001b[0m \u001b[0;34m+=\u001b[0m \u001b[0msgdfn\u001b[0m\u001b[0;34m(\u001b[0m\u001b[0mntrain\u001b[0m\u001b[0;34m,\u001b[0m\u001b[0mlr\u001b[0m\u001b[0;34m)\u001b[0m\u001b[0;34m\u001b[0m\u001b[0;34m\u001b[0m\u001b[0m\n\u001b[0m\u001b[1;32m      6\u001b[0m \u001b[0mprint\u001b[0m\u001b[0;34m(\u001b[0m\u001b[0mres\u001b[0m\u001b[0;34m)\u001b[0m\u001b[0;34m\u001b[0m\u001b[0;34m\u001b[0m\u001b[0m\n",
      "\u001b[0;31mNameError\u001b[0m: name 'sgdfn' is not defined"
     ]
    }
   ],
   "source": [
    "#Q2，探索不同学习率的影响，试图找到学习率过低而无法学习的点，以及学习率过高而变得不稳定的点。提示：您将需要探索多个数量级的大范围值。\n",
    "\n",
    "\n",
    "res=[]\n",
    "for lr_exp in range(-8,+3):\n",
    "    lr = 10.0**lr_exp\n",
    "    print(f'Learning rate = {lr}')\n",
    "    res += sgdfn(ntrain,lr)\n",
    "print(res)"
   ]
  },
  {
   "cell_type": "markdown",
   "metadata": {},
   "source": [
    "### **Take home message:** get used to seeing what things look like when the learning rate is too small or too large. Unstable results like the ones at the end sometimes produce models that are OK, but almost always the models could be better if the learning rate was better suited to them."
   ]
  },
  {
   "cell_type": "markdown",
   "metadata": {},
   "source": [
    "## Part 3: Effect of number of samples on learning rate"
   ]
  },
  {
   "cell_type": "code",
   "execution_count": 57,
   "metadata": {
    "tags": []
   },
   "outputs": [
    {
     "ename": "NameError",
     "evalue": "name 'ntrain' is not defined",
     "output_type": "error",
     "traceback": [
      "\u001b[0;31m---------------------------------------------------------------------------\u001b[0m",
      "\u001b[0;31mNameError\u001b[0m                                 Traceback (most recent call last)",
      "\u001b[0;32m/var/folders/pc/6d606khj3jz573zj08smmc700000gn/T/ipykernel_12731/2347833667.py\u001b[0m in \u001b[0;36m<module>\u001b[0;34m\u001b[0m\n\u001b[1;32m      1\u001b[0m \u001b[0mres\u001b[0m\u001b[0;34m=\u001b[0m\u001b[0;34m[\u001b[0m\u001b[0;34m]\u001b[0m\u001b[0;34m\u001b[0m\u001b[0;34m\u001b[0m\u001b[0m\n\u001b[0;32m----> 2\u001b[0;31m \u001b[0;32mfor\u001b[0m \u001b[0mnsamp\u001b[0m \u001b[0;32min\u001b[0m \u001b[0mrange\u001b[0m\u001b[0;34m(\u001b[0m\u001b[0;36m50\u001b[0m\u001b[0;34m,\u001b[0m\u001b[0mntrain\u001b[0m\u001b[0;34m,\u001b[0m\u001b[0;36m50\u001b[0m\u001b[0;34m)\u001b[0m\u001b[0;34m:\u001b[0m\u001b[0;34m\u001b[0m\u001b[0;34m\u001b[0m\u001b[0m\n\u001b[0m\u001b[1;32m      3\u001b[0m     \u001b[0mprint\u001b[0m\u001b[0;34m(\u001b[0m\u001b[0;34mf'Number of samples = {nsamp}'\u001b[0m\u001b[0;34m)\u001b[0m\u001b[0;34m\u001b[0m\u001b[0;34m\u001b[0m\u001b[0m\n\u001b[1;32m      4\u001b[0m     \u001b[0mres\u001b[0m \u001b[0;34m+=\u001b[0m \u001b[0msgdfn\u001b[0m\u001b[0;34m(\u001b[0m\u001b[0mnsamp\u001b[0m\u001b[0;34m,\u001b[0m\u001b[0;36m1e-5\u001b[0m\u001b[0;34m)\u001b[0m\u001b[0;34m\u001b[0m\u001b[0;34m\u001b[0m\u001b[0m\n",
      "\u001b[0;31mNameError\u001b[0m: name 'ntrain' is not defined"
     ]
    }
   ],
   "source": [
    "#Q3 探索不同训练集大小（通过nsamp）对学习曲线的影响。训练集的大小如何影响学习率的极限，\n",
    "#即学习率过低或过高时的值？记录几个训练集大小的值，并将结果总结为图表或表格。\n",
    "\n",
    "#（带回家的信息：习惯在学习率太小或太大的情况下看到事物的样子。不稳定的结果，比如最后的结果，\n",
    "#有时会产生可以使用的模型，但如果学习率更适合模型，那么几乎所有的模型都会更好。）\n",
    "\n",
    "\n",
    "res=[]\n",
    "for nsamp in range(50,ntrain,50):\n",
    "    print(f'Number of samples = {nsamp}')\n",
    "    res += sgdfn(nsamp,1e-5)\n",
    "    \n",
    "\n",
    "#在执行该循环之前，有必要将预处理适应于训练集，然后转换训练和验证数据集。要做到这一点，您需要填写适当的电话。\n",
    "#在循环中，对验证数据调用预测函数，然后计算精度和损失（铰链损失）。为这些步骤填写必要的代码。\n",
    "#循环结束后，绘制精度和损耗，这些是学习曲线。\n",
    "#在nsamp设置为训练集的最大值，learn rate设置为1e-5的情况下调用函数。"
   ]
  },
  {
   "cell_type": "code",
   "execution_count": 58,
   "metadata": {
    "tags": []
   },
   "outputs": [
    {
     "name": "stdout",
     "output_type": "stream",
     "text": [
      "Learning rate = 1e-06, n=100\n"
     ]
    },
    {
     "ename": "NameError",
     "evalue": "name 'sgdfn' is not defined",
     "output_type": "error",
     "traceback": [
      "\u001b[0;31m---------------------------------------------------------------------------\u001b[0m",
      "\u001b[0;31mNameError\u001b[0m                                 Traceback (most recent call last)",
      "\u001b[0;32m/var/folders/pc/6d606khj3jz573zj08smmc700000gn/T/ipykernel_12731/3991694546.py\u001b[0m in \u001b[0;36m<module>\u001b[0;34m\u001b[0m\n\u001b[1;32m      2\u001b[0m     \u001b[0mlr\u001b[0m \u001b[0;34m=\u001b[0m \u001b[0;36m10.0\u001b[0m\u001b[0;34m**\u001b[0m\u001b[0mlr_exp\u001b[0m\u001b[0;34m\u001b[0m\u001b[0;34m\u001b[0m\u001b[0m\n\u001b[1;32m      3\u001b[0m     \u001b[0mprint\u001b[0m\u001b[0;34m(\u001b[0m\u001b[0;34mf'Learning rate = {lr}, n=100'\u001b[0m\u001b[0;34m)\u001b[0m\u001b[0;34m\u001b[0m\u001b[0;34m\u001b[0m\u001b[0m\n\u001b[0;32m----> 4\u001b[0;31m     \u001b[0msgdfn\u001b[0m\u001b[0;34m(\u001b[0m\u001b[0;36m100\u001b[0m\u001b[0;34m,\u001b[0m\u001b[0mlr\u001b[0m\u001b[0;34m)\u001b[0m\u001b[0;34m\u001b[0m\u001b[0;34m\u001b[0m\u001b[0m\n\u001b[0m\u001b[1;32m      5\u001b[0m     \u001b[0mprint\u001b[0m\u001b[0;34m(\u001b[0m\u001b[0;34mf'Learning rate = {lr}, n={ntrain}'\u001b[0m\u001b[0;34m)\u001b[0m\u001b[0;34m\u001b[0m\u001b[0;34m\u001b[0m\u001b[0m\n\u001b[1;32m      6\u001b[0m     \u001b[0msgdfn\u001b[0m\u001b[0;34m(\u001b[0m\u001b[0mntrain\u001b[0m\u001b[0;34m,\u001b[0m\u001b[0mlr\u001b[0m\u001b[0;34m)\u001b[0m\u001b[0;34m\u001b[0m\u001b[0;34m\u001b[0m\u001b[0m\n",
      "\u001b[0;31mNameError\u001b[0m: name 'sgdfn' is not defined"
     ]
    }
   ],
   "source": [
    "#Q4 使用nsamp=100，找出你认为最好的学习率。然后将其与设置learning_rate='optimal'时发生的情况进行比较。\n",
    "#通过在函数中加入另一个参数来实现这一点。展示每种情况下的学习曲线。你能比“最佳”设置做得更好吗？\n",
    "\n",
    "\n",
    "for lr_exp in np.arange(-6,-3,0.5):\n",
    "    lr = 10.0**lr_exp\n",
    "    print(f'Learning rate = {lr}, n=100')\n",
    "    sgdfn(100,lr)\n",
    "    print(f'Learning rate = {lr}, n={ntrain}')\n",
    "    sgdfn(ntrain,lr)"
   ]
  },
  {
   "cell_type": "code",
   "execution_count": null,
   "metadata": {},
   "outputs": [],
   "source": [
    "#带回家的信息：有时学习速度在太慢和太不稳定之间有一个相对狭窄的区域。\n",
    "#这还取决于数据（和任务），因此需要针对每个问题适当调整学习率。"
   ]
  },
  {
   "cell_type": "markdown",
   "metadata": {},
   "source": [
    "### **Take home message:** there is a relatively narrow zone sometimes of learning rates between too slow and too unstable. This also depends on the data (and the task) so learning rates need to be appropriately tuned for each problem."
   ]
  },
  {
   "cell_type": "markdown",
   "metadata": {},
   "source": [
    "## Part 4: Learning rate options"
   ]
  },
  {
   "cell_type": "code",
   "execution_count": 148,
   "metadata": {
    "tags": []
   },
   "outputs": [
    {
     "name": "stdout",
     "output_type": "stream",
     "text": [
      "Number of epochs/iterations performed was 1000\n"
     ]
    },
    {
     "name": "stderr",
     "output_type": "stream",
     "text": [
      "/opt/miniconda3/envs/umlt/lib/python3.9/site-packages/sklearn/linear_model/_stochastic_gradient.py:696: ConvergenceWarning: Maximum number of iteration reached before convergence. Consider increasing max_iter to improve the fit.\n",
      "  warnings.warn(\n"
     ]
    },
    {
     "data": {
      "text/plain": [
       "[0.9824561403508771, 0.6403508771929824]"
      ]
     },
     "execution_count": 148,
     "metadata": {},
     "output_type": "execute_result"
    }
   ],
   "source": [
    "sgdfn(ntrain,1e-5,loop=False)"
   ]
  },
  {
   "cell_type": "code",
   "execution_count": 149,
   "metadata": {
    "tags": []
   },
   "outputs": [
    {
     "name": "stdout",
     "output_type": "stream",
     "text": [
      "Number of epochs/iterations performed was 16\n"
     ]
    },
    {
     "data": {
      "text/plain": [
       "[0.9649122807017544, 0.6578947368421053]"
      ]
     },
     "execution_count": 149,
     "metadata": {},
     "output_type": "execute_result"
    }
   ],
   "source": [
    "sgdfn(ntrain,1e-5,learntype='optimal',loop=False)"
   ]
  },
  {
   "cell_type": "code",
   "execution_count": 150,
   "metadata": {},
   "outputs": [
    {
     "name": "stdout",
     "output_type": "stream",
     "text": [
      "Number of epochs/iterations performed was 26\n"
     ]
    },
    {
     "data": {
      "text/plain": [
       "[0.956140350877193, 0.6666666666666666]"
      ]
     },
     "execution_count": 150,
     "metadata": {},
     "output_type": "execute_result"
    }
   ],
   "source": [
    "sgdfn(ntrain,1e-6,learntype='optimal',loop=False)"
   ]
  },
  {
   "cell_type": "code",
   "execution_count": 151,
   "metadata": {},
   "outputs": [
    {
     "name": "stdout",
     "output_type": "stream",
     "text": [
      "Number of epochs/iterations performed was 6\n"
     ]
    },
    {
     "data": {
      "text/plain": [
       "[0.9298245614035088, 0.6929824561403509]"
      ]
     },
     "execution_count": 151,
     "metadata": {},
     "output_type": "execute_result"
    }
   ],
   "source": [
    "sgdfn(ntrain, 1e-5, learntype='constant', loop=False, early_stopping=True, verbose=0, tol=1e-3, n_iter_no_change=5)"
   ]
  },
  {
   "cell_type": "code",
   "execution_count": null,
   "metadata": {},
   "outputs": [],
   "source": [
    "#带回家的信息：“最佳”方法可能比简单的方法更好，也可能不会更好。不要认为最新的方法或名称/数学最令人印象深刻的方法会做得最好。\n",
    "#尽可能尝试各种不同的事情。请记住，其中很多都是随机的，所以如果你再次运行它，你会得到不同的结果（很多时候）。\n",
    "#但是，还要考虑您拥有多少时间或计算资源，因为较新版本需要的纪元/迭代次数要少得多\n",
    "#（在这种情况下，这非常简单，但对于非常大的数据集和非常大的模型，例如在深度学习中，计算时间可能是一个需要考虑的大问题）。"
   ]
  },
  {
   "cell_type": "markdown",
   "metadata": {},
   "source": [
    "### **Take home message:** the 'optimal' methods may or may not do better than simpler ones. Don't assume that the latest method or the method with the most impressive name/maths will do the best. Try a range of different things whenever possible. And remember that many of these things are stochastic, so if you ran it again, you'll get a different result (a lot of the time). However, also consider how much time or computational resources you have, as the later versions need far fewer epochs/iterations (in this case it is pretty trivial, but for very big datasets and very big models, such as in deep learning, the computational time can be a big issue to consider)."
   ]
  },
  {
   "cell_type": "markdown",
   "metadata": {},
   "source": [
    "## Part 5: Regularisation (plus the early stopping extension)"
   ]
  },
  {
   "cell_type": "code",
   "execution_count": null,
   "metadata": {},
   "outputs": [],
   "source": [
    "# Q5 正规化：\n",
    "#1不要使用上面的功能，而是创建自己的管道，包括一个SGDClassizer，并使用它来适应培训数据和预测验证数据。计算这方面的性能指标\n",
    "#（准确度和损失），但由于这是一次通话，您无法从中获得学习曲线。记录你的结果，因为这将是下一个实验的基准。\n",
    "#2默认情况下，SGDClassizer包含L2正则化。它可以由参数alpha控制。尝试将其改变许多个数量级，直到找到一个值，使结果发生显著变化。\n",
    "#3绘制精度与α值的曲线图。\n",
    "#4使用的正则化类型由惩罚参数控制。查看可用选项并尝试其他选项，为每个选项绘制类似的图。\n",
    "#5问：你认为什么是正规化的最佳环境？"
   ]
  },
  {
   "cell_type": "code",
   "execution_count": 144,
   "metadata": {},
   "outputs": [
    {
     "name": "stdout",
     "output_type": "stream",
     "text": [
      "Alpha = 1e-08\n",
      "Number of epochs/iterations performed was 6\n",
      "Alpha = 1e-07\n",
      "Number of epochs/iterations performed was 6\n",
      "Alpha = 1e-06\n",
      "Number of epochs/iterations performed was 6\n",
      "Alpha = 1e-05\n",
      "Number of epochs/iterations performed was 6\n",
      "Alpha = 0.0001\n",
      "Number of epochs/iterations performed was 6\n",
      "Alpha = 0.001\n",
      "Number of epochs/iterations performed was 6\n",
      "Alpha = 0.01\n",
      "Number of epochs/iterations performed was 6\n",
      "Alpha = 0.1\n",
      "Number of epochs/iterations performed was 6\n",
      "Alpha = 1.0\n",
      "Number of epochs/iterations performed was 6\n",
      "Alpha = 10.0\n",
      "Number of epochs/iterations performed was 6\n",
      "Alpha = 100.0\n",
      "Number of epochs/iterations performed was 6\n",
      "Alpha = 1000.0\n",
      "Number of epochs/iterations performed was 6\n",
      "Alpha = 10000.0\n",
      "Number of epochs/iterations performed was 6\n",
      "Alpha = 100000.0\n",
      "Number of epochs/iterations performed was 6\n",
      "Alpha = 1000000.0\n",
      "Number of epochs/iterations performed was 6\n",
      "Alpha = 10000000.0\n",
      "Number of epochs/iterations performed was 6\n",
      "Alpha = 1e-08\n",
      "Number of epochs/iterations performed was 6\n",
      "Alpha = 1e-07\n",
      "Number of epochs/iterations performed was 6\n",
      "Alpha = 1e-06\n",
      "Number of epochs/iterations performed was 6\n",
      "Alpha = 1e-05\n",
      "Number of epochs/iterations performed was 6\n",
      "Alpha = 0.0001\n",
      "Number of epochs/iterations performed was 6\n",
      "Alpha = 0.001\n",
      "Number of epochs/iterations performed was 6\n",
      "Alpha = 0.01\n",
      "Number of epochs/iterations performed was 6\n",
      "Alpha = 0.1\n",
      "Number of epochs/iterations performed was 6\n",
      "Alpha = 1.0\n",
      "Number of epochs/iterations performed was 6\n",
      "Alpha = 10.0\n",
      "Number of epochs/iterations performed was 6\n",
      "Alpha = 100.0\n",
      "Number of epochs/iterations performed was 6\n",
      "Alpha = 1000.0\n",
      "Number of epochs/iterations performed was 6\n",
      "Alpha = 10000.0\n",
      "Number of epochs/iterations performed was 6\n",
      "Alpha = 100000.0\n",
      "Number of epochs/iterations performed was 6\n",
      "Alpha = 1000000.0\n",
      "Number of epochs/iterations performed was 6\n",
      "Alpha = 10000000.0\n",
      "Number of epochs/iterations performed was 6\n",
      "Alpha = 1e-08\n",
      "Number of epochs/iterations performed was 6\n",
      "Alpha = 1e-07\n",
      "Number of epochs/iterations performed was 6\n",
      "Alpha = 1e-06\n",
      "Number of epochs/iterations performed was 6\n",
      "Alpha = 1e-05\n",
      "Number of epochs/iterations performed was 6\n",
      "Alpha = 0.0001\n",
      "Number of epochs/iterations performed was 6\n",
      "Alpha = 0.001\n",
      "Number of epochs/iterations performed was 6\n",
      "Alpha = 0.01\n",
      "Number of epochs/iterations performed was 6\n",
      "Alpha = 0.1\n",
      "Number of epochs/iterations performed was 6\n",
      "Alpha = 1.0\n",
      "Number of epochs/iterations performed was 6\n",
      "Alpha = 10.0\n",
      "Number of epochs/iterations performed was 6\n",
      "Alpha = 100.0\n",
      "Number of epochs/iterations performed was 6\n",
      "Alpha = 1000.0\n",
      "Number of epochs/iterations performed was 6\n",
      "Alpha = 10000.0\n",
      "Number of epochs/iterations performed was 6\n",
      "Alpha = 100000.0\n",
      "Number of epochs/iterations performed was 6\n",
      "Alpha = 1000000.0\n",
      "Number of epochs/iterations performed was 6\n",
      "Alpha = 10000000.0\n",
      "Number of epochs/iterations performed was 6\n"
     ]
    },
    {
     "data": {
      "image/png": "[encoded data removed]",
      "text/plain": [
       "<Figure size 432x288 with 1 Axes>"
      ]
     },
     "metadata": {
      "needs_background": "light"
     },
     "output_type": "display_data"
    }
   ],
   "source": [
    "for pen in ['l2','l1','elasticnet']:\n",
    "    res = []\n",
    "    alphxvals = np.arange(-8,+8)\n",
    "    for alphx in alphxvals:\n",
    "        print(f'Alpha = {10.0**alphx}')\n",
    "        res += [ sgdfn(100, 1e-6, learntype='constant', loop=False, early_stopping=False, \n",
    "                       verbose=0, tol=1e-3, n_iter_no_change=5, alpha=10.0**alphx, penalty=pen) ]\n",
    "    res=np.array(res)\n",
    "    plt.semilogx(10.0**alphxvals,res[:,0])\n",
    "plt.title(f'Learning curves for different regularisation penalty types')\n",
    "plt.ylabel('Accuracy')\n",
    "plt.xlabel('Alpha')\n",
    "plt.legend(['l2','l1','elasticnet'])\n",
    "plt.show()"
   ]
  },
  {
   "cell_type": "code",
   "execution_count": null,
   "metadata": {},
   "outputs": [],
   "source": [
    "#带回家的信息：就它们对同一数据集的影响而言，它们有许多数量级的不同。所以，无论何时，当你调查这个或其他事情的参数时，\n",
    "#请记住，你应该尝试一个非常广泛的值，以确保你看到了全面的效果。在这种情况下，\n",
    "#并不真正需要规范化，但太多会降低性能，这是典型的。"
   ]
  },
  {
   "cell_type": "markdown",
   "metadata": {},
   "source": [
    "### **Take home message:** these are *many orders of magnitude* different from one another in terms of their effect on the same dataset. So whenever you are investigating parameters for this, or other things, remember that you should try a very wide range of values to make sure that you are seeing the full effect. In this case regularisation isn't really needed, but too much lowers the performance, which is typical."
   ]
  },
  {
   "cell_type": "markdown",
   "metadata": {},
   "source": [
    "## Part 6: Model comparison and test evaluation"
   ]
  },
  {
   "cell_type": "code",
   "execution_count": null,
   "metadata": {},
   "outputs": [],
   "source": [
    "#Q6 模型比较：\n",
    "\n",
    "#1我们像往常一样完成标准工作流程-为上述所有参数选择您认为最好的设置。\n",
    "#2问题：以上哪一个参数（即学习率、学习方法类型或正规化）对最终绩效的影响最大？\n",
    "#3在当前验证集上测量此方法的性能。\n",
    "#4.根据培训和验证数据的组合对方法进行重新培训。\n",
    "#5.在测试集上测量其性能。\n",
    "#6问题：这种性能比较如何？你期待什么？"
   ]
  },
  {
   "cell_type": "code",
   "execution_count": 159,
   "metadata": {},
   "outputs": [
    {
     "name": "stdout",
     "output_type": "stream",
     "text": [
      "Validation and Test accuracies are: 0.9473684210526315 and 0.956140350877193\n"
     ]
    }
   ],
   "source": [
    "sgd = SGDClassifier(learning_rate='constant', eta0=1e-5, \n",
    "                        early_stopping=False, \n",
    "                        validation_fraction=0.1, penalty='l2')   \n",
    "sgd_pipe = Pipeline([('preproc',preproc_pl),('sgd',sgd)])\n",
    "\n",
    "sgd_pipe.fit(X_train,y_train)\n",
    "y_val_pred = sgd_pipe.predict(X_val)\n",
    "val_acc = accuracy_score(y_val, y_val_pred)\n",
    "\n",
    "sgd_pipe.fit(np.concatenate((X_train,X_val),axis=0),np.concatenate((y_train,y_val),axis=0))\n",
    "y_test_pred = sgd_pipe.predict(X_test)\n",
    "test_acc = accuracy_score(y_test, y_test_pred)\n",
    "\n",
    "print(f'Validation and Test accuracies are: {val_acc} and {test_acc}')"
   ]
  },
  {
   "cell_type": "markdown",
   "metadata": {},
   "source": [
    "### **Take home message:** although the validation accuracy is, on average, biased by the selection process the random element of sample selection often means that it is hard to know if the test accuracy will be more or less than the validation accuracy, but it should normally be similar. If it is very different then you either have a lot of random variation (often due to sample sizes being too small) or you have a bigger problem in the code or in the selection of the samples."
   ]
  },
  {
   "cell_type": "code",
   "execution_count": null,
   "metadata": {},
   "outputs": [],
   "source": [
    "#带回家的信息：虽然平均而言，验证准确度受到选择过程的影响，但样本选择的随机因素通常意味着很难知道测试准确度是否会高于或低于验证准确度，\n",
    "#但它通常应该是相似的。如果是非常不同的，那么你要么有很多随机变化（通常是由于样本量太小），要么在代码或样本选择上有更大的问题。"
   ]
  }
 ],
 "metadata": {
  "kernelspec": {
   "display_name": "Python 3 (ipykernel)",
   "language": "python",
   "name": "python3"
  },
  "language_info": {
   "codemirror_mode": {
    "name": "ipython",
    "version": 3
   },
   "file_extension": ".py",
   "mimetype": "text/x-python",
   "name": "python",
   "nbconvert_exporter": "python",
   "pygments_lexer": "ipython3",
   "version": "3.9.7"
  }
 },
 "nbformat": 4,
 "nbformat_minor": 4
}
