{
 "cells": [
  {
   "cell_type": "markdown",
   "metadata": {},
   "source": [
    "# Using Machine Learning Tools 2021, Assignment 3\n",
    "\n",
    "## Sign Language Image Classification using Deep Learning"
   ]
  },
  {
   "cell_type": "markdown",
   "metadata": {},
   "source": [
    "## Overview\n",
    "\n",
    "In this assignment you will implement different deep learning networks to classify images of hands in poses that correspond to letters in American Sign Language. The dataset is contained in the assignment zip file, along with some images and a text file describing the dataset. It is similar in many ways to other MNIST datasets.\n",
    "\n",
    "The main aims of the assignment are:\n",
    "\n",
    " - To implement and train different types of deep learning network;\n",
    " \n",
    " - To systematically optimise the architecture and parameters of the networks;\n",
    "  \n",
    " - To explore over-fitting and know what appropriate actions to take in these cases.\n",
    " \n",
    "\n",
    "It is the intention that this assignment will take you through the process of implementing and optimising deep learning approaches. The way that you work is more important than the results for this assignment, as what is most crucial for you to learn is how to take a dataset, understand the problem, write appropriate code, optimize performance and present results. A good understanding of the different aspects of this process and how to put them together well (which will not always be the same, since different problems come with different constraints or difficulties) is the key to being able to effectively use deep learning techniques in practice.\n",
    "\n",
    "This assignment relates to the following ACS CBOK areas: abstraction, design, hardware and software, data and information, HCI and programming.\n"
   ]
  },
  {
   "cell_type": "markdown",
   "metadata": {},
   "source": [
    "## Scenario\n",
    "\n",
    "A client is interested in having you (or rather the company that you work for) investigate whether it is possible to develop an app that would enable American sign language to be translated for people that do not sign, or those that sign in different languages/styles. They have provided you with a labelled data of images related to signs (hand positions) that represent individual letters in order to do a preliminary test of feasibility.\n",
    "\n",
    "Your manager has asked you to do this feasibility assessment, but subject to a constraint on the computational facilities available.  More specifically, you are asked to do **no more than 50 training runs in total** (including all models and hyperparameter settings that you consider).  \n",
    "\n",
    "In addition, you are told to **create a validation set and any necessary test sets using _only_ the supplied testing dataset.** It is unusual to do this, but here the training set contains a lot of non-independent, augmented images and it is important that the validation images must be totally independent of the training data and not made from augmented instances of training images.\n",
    "\n",
    "The clients have asked to be informed about the following:\n",
    " - **unbiased accuracy** estimate of a deep learning model (since DL models are fast when deployed)\n",
    " - the letter with the lowest individual accuracy\n",
    " - the most common error (of one letter being incorrectly labelled as another)\n",
    " \n",
    "Your manager has asked you to create a jupyter notebook that shows the following:\n",
    " - loading the data, checking it, fixing any problems, and displaying a sample\n",
    " - training and optimising both **densely connected** *and* **CNN** style models\n",
    " - finding the best one, subject to a rapid turn-around and corresponding limit of 50 training runs in total\n",
    " - reporting clearly what networks you have tried, the method you used to optimise them, the associated learning curves, their summary performance and selection process to pick the best model\n",
    "     - this should be clear enough that another employee, with your skillset, should be able to take over from you and understand your methods\n",
    " - results from the model that is selected as the best, showing the information that the clients have requested\n",
    " - a statistical test between the best and second-best models, to see if there is any significant difference in performance (overall accuracy)\n",
    " - it is hoped that the accuracy will exceed 96% overall and better than 90% for every individual letter, and you are asked to:\n",
    "     - report the overall accuracy\n",
    "     - report the accuracy for each individual letter\n",
    "     - write a short recommendation regarding how likely you think it is to achieve these goals either with the current model or by continuing to do a small amount of model development/optimisation\n"
   ]
  },
  {
   "cell_type": "markdown",
   "metadata": {},
   "source": [
    "## Guide to Assessment\n",
    "\n",
    "This assignment is much more free-form than others in order to test your ability to run a full analysis like this one from beginning to end, using the correct procedures. So you should use a methodical approach, as a large portion of the marks are associated with the decisions that you take and the approach that you use.  There are no marks associated with the performance - just report what you achieve, as high performance does not get better marks - to get good marks you need to use the right steps, as you've used in other assignments and workshops.\n",
    "\n",
    "Make sure that you follow the instructions found in the scenario above, as this is what will be marked.  And be careful to do things in a way that gives you an *unbiased* result.\n",
    "\n",
    "The notebook that you submit should be similar to those in the other assignments, where it is important to clearly structure your outputs and code so that it could be understood by your manager or your co-worker - or, even more importantly, the person marking it! This does not require much writing, beyond the code, comments and the small amount that you've seen in previous assignments.  Do not write long paragraphs to explain every detail of everything you do - it is not that kind of report and longer is definitely not better.  Just make your code clear, your outputs easy to understand (short summaries often help here), and include a few small markdown cells that describe or summarise things when necessary.\n",
    "\n",
    "Marks for the assignment will be determined according to the general rubric that you can find on MyUni, with a breakdown into sections as follows:\n",
    " - 10%: Loading, investigating, manipulating and displaying data\n",
    " - 20%: Initial model successfully trained (and acting as a baseline)\n",
    " - 45%: Optimisation of an appropriate set of models in an appropriate way (given the constraint of 50 training runs)\n",
    " - 25%: Comparison of models, selection of the best two and reporting of final results\n",
    "\n",
    "Remember that most marks will be for the **steps you take**, rather than the achievement of any particular results. There will also be marks for showing appropriate understanding of the results that you present.  \n",
    "\n",
    "What you need to do this assignment can all be found in the first 10 weeks of workshops, lectures and also the previous two assignments. The one exception to this is the statistical test, which will be covered in week 11."
   ]
  },
  {
   "cell_type": "markdown",
   "metadata": {},
   "source": [
    "## Final Instructions\n",
    "\n",
    "While you are free to use whatever IDE you like to develop your code, your submission should be formatted as a Jupyter notebook that interleaves Python code with output, commentary and analysis. \n",
    "- Your code must use the current stable versions of python libraries, not outdated versions.\n",
    "- All data processing must be done within the notebook after calling appropriate load functions.\n",
    "- Comment your code, so that its purpose is clear to the reader!\n",
    "- In the submission file name, do not use spaces or special characters.\n",
    "\n",
    "The marks for this assignment are mainly associated with making the right choices and executing the workflow correctly and efficiently. Make sure you have clean, readable code as well as producing outputs, since your coding will also count towards the marks (however, excessive commenting is discouraged and will lose marks, so aim for a modest, well-chosen amount of comments and text in outputs).\n",
    "\n",
    "This assignment can be solved using methods from sklearn, pandas, matplotlib and keras, as presented in the workshops. Other high-level libraries should not be used, even though they might have nice functionality such as automated hyperparameter or architecture search/tuning/optimisation. For the deep learning parts please restrict yourself to the library calls used in workshops 7-10 or ones that are very similar to these. You are expected to search and carefully read the documentation for functions that you use, to ensure you are using them correctly.\n",
    "\n",
    "As ususal, feel free to use code from the workshops as a base for this assignment but be aware that they will normally not do *exactly* what you want (code examples rarely do!) and so you will need to make suitable modifications.\n",
    "\n",
    "The assignment is worth 35% of your overall mark for the course.\n",
    "\n",
    "Mark Jenkinson  \n",
    "May 2022"
   ]
  },
  {
   "cell_type": "markdown",
   "metadata": {},
   "source": [
    "# Loading, investigating, manipulating and displaying data"
   ]
  },
  {
   "cell_type": "code",
   "execution_count": 1,
   "metadata": {},
   "outputs": [
    {
     "name": "stdout",
     "output_type": "stream",
     "text": [
      "<class 'pandas.core.frame.DataFrame'>\n",
      "RangeIndex: 27455 entries, 0 to 27454\n",
      "Columns: 785 entries, label to pixel784\n",
      "dtypes: int64(785)\n",
      "memory usage: 164.4 MB\n",
      "None\n",
      "<class 'pandas.core.frame.DataFrame'>\n",
      "RangeIndex: 7172 entries, 0 to 7171\n",
      "Columns: 785 entries, label to pixel784\n",
      "dtypes: int64(785)\n",
      "memory usage: 43.0 MB\n",
      "None\n"
     ]
    }
   ],
   "source": [
    "import numpy as np\n",
    "import pandas as pd\n",
    "import matplotlib.pyplot as plt\n",
    "\n",
    "#read file and get initial view of the data\n",
    "train_set = pd.read_csv('sign_mnist_train.csv')\n",
    "big_test_set= pd.read_csv('sign_mnist_test.csv')\n",
    "print(train_set.info())\n",
    "print(big_test_set.info())"
   ]
  },
  {
   "cell_type": "code",
   "execution_count": 2,
   "metadata": {},
   "outputs": [
    {
     "name": "stdout",
     "output_type": "stream",
     "text": [
      "              label        pixel1        pixel2        pixel3        pixel4  \\\n",
      "count  27455.000000  27455.000000  27455.000000  27455.000000  27455.000000   \n",
      "mean      12.325369    145.419377    148.500273    151.247714    153.546531   \n",
      "std        7.374907     41.358555     39.942152     39.056286     38.595247   \n",
      "min        0.000000      0.000000      0.000000      0.000000      0.000000   \n",
      "25%        6.000000    121.000000    126.000000    130.000000    133.000000   \n",
      "50%       13.000000    150.000000    153.000000    156.000000    158.000000   \n",
      "75%       19.000000    174.000000    176.000000    178.000000    179.000000   \n",
      "max      200.000000    255.000000    255.000000    255.000000    255.000000   \n",
      "\n",
      "             pixel5        pixel6        pixel7        pixel8        pixel9  \\\n",
      "count  27455.000000  27455.000000  27455.000000  27455.000000  27455.000000   \n",
      "mean     156.210891    158.411255    160.472154    162.339683    163.954799   \n",
      "std       37.111165     36.125579     35.016392     33.661998     32.651607   \n",
      "min        0.000000      0.000000      0.000000      0.000000      0.000000   \n",
      "25%      137.000000    140.000000    142.000000    144.000000    146.000000   \n",
      "50%      160.000000    162.000000    164.000000    165.000000    166.000000   \n",
      "75%      181.000000    182.000000    183.000000    184.000000    185.000000   \n",
      "max      255.000000    255.000000    255.000000    255.000000    255.000000   \n",
      "\n",
      "       ...      pixel775      pixel776      pixel777      pixel778  \\\n",
      "count  ...  27455.000000  27455.000000  27455.000000  27455.000000   \n",
      "mean   ...    141.104863    147.495611    153.325806    159.125332   \n",
      "std    ...     63.751194     65.512894     64.427412     63.708507   \n",
      "min    ...      0.000000      0.000000      0.000000      0.000000   \n",
      "25%    ...     92.000000     96.000000    103.000000    112.000000   \n",
      "50%    ...    144.000000    162.000000    172.000000    180.000000   \n",
      "75%    ...    196.000000    202.000000    205.000000    207.000000   \n",
      "max    ...    255.000000    255.000000    255.000000    255.000000   \n",
      "\n",
      "           pixel779      pixel780      pixel781      pixel782      pixel783  \\\n",
      "count  27455.000000  27455.000000  27455.000000  27455.000000  27455.000000   \n",
      "mean     161.969259    162.736696    162.906137    161.966454    161.137898   \n",
      "std       63.738316     63.444008     63.509210     63.298721     63.610415   \n",
      "min        0.000000      0.000000      0.000000      0.000000      0.000000   \n",
      "25%      120.000000    125.000000    128.000000    128.000000    128.000000   \n",
      "50%      183.000000    184.000000    184.000000    182.000000    182.000000   \n",
      "75%      208.000000    207.000000    207.000000    206.000000    204.000000   \n",
      "max      255.000000    255.000000    255.000000    255.000000    255.000000   \n",
      "\n",
      "           pixel784  \n",
      "count  27455.000000  \n",
      "mean     159.824731  \n",
      "std       64.396846  \n",
      "min        0.000000  \n",
      "25%      125.500000  \n",
      "50%      182.000000  \n",
      "75%      204.000000  \n",
      "max      255.000000  \n",
      "\n",
      "[8 rows x 785 columns]\n",
      "             label       pixel1       pixel2       pixel3       pixel4  \\\n",
      "count  7172.000000  7172.000000  7172.000000  7172.000000  7172.000000   \n",
      "mean     11.247351   147.532627   150.445761   153.324317   155.663413   \n",
      "std       7.446712    43.593144    41.867838    40.442728    39.354776   \n",
      "min       0.000000     0.000000     0.000000     0.000000     0.000000   \n",
      "25%       4.000000   122.000000   126.000000   130.000000   134.000000   \n",
      "50%      11.000000   154.000000   157.000000   159.000000   161.000000   \n",
      "75%      18.000000   178.000000   179.000000   181.000000   182.000000   \n",
      "max      24.000000   255.000000   255.000000   255.000000   255.000000   \n",
      "\n",
      "            pixel5       pixel6       pixel7       pixel8       pixel9  ...  \\\n",
      "count  7172.000000  7172.000000  7172.000000  7172.000000  7172.000000  ...   \n",
      "mean    158.169688   160.790853   162.282766   163.649191   165.589515  ...   \n",
      "std      37.749637    36.090916    36.212636    35.885378    33.721876  ...   \n",
      "min       0.000000    10.000000     0.000000     0.000000     0.000000  ...   \n",
      "25%     137.000000   141.000000   144.000000   145.000000   147.000000  ...   \n",
      "50%     163.000000   165.000000   166.000000   168.000000   169.000000  ...   \n",
      "75%     184.000000   185.000000   186.000000   187.000000   187.000000  ...   \n",
      "max     255.000000   255.000000   255.000000   255.000000   255.000000  ...   \n",
      "\n",
      "          pixel775     pixel776     pixel777     pixel778     pixel779  \\\n",
      "count  7172.000000  7172.000000  7172.000000  7172.000000  7172.000000   \n",
      "mean    138.546570   145.539598   150.744980   155.638873   158.893196   \n",
      "std      64.501665    65.132370    65.760539    65.565147    65.200300   \n",
      "min       0.000000     0.000000     0.000000     0.000000     0.000000   \n",
      "25%      90.000000    95.000000    99.000000   105.000000   113.000000   \n",
      "50%     137.000000   155.000000   168.000000   177.000000   181.000000   \n",
      "75%     195.000000   200.000000   204.250000   207.000000   207.000000   \n",
      "max     255.000000   255.000000   255.000000   255.000000   255.000000   \n",
      "\n",
      "          pixel780     pixel781     pixel782     pixel783     pixel784  \n",
      "count  7172.000000  7172.000000  7172.000000  7172.000000  7172.000000  \n",
      "mean    159.648494   158.162019   157.672755   156.664250   154.776771  \n",
      "std      65.499368    66.493576    66.009690    67.202939    68.285148  \n",
      "min       0.000000     0.000000     0.000000     0.000000     0.000000  \n",
      "25%     113.750000   113.000000   115.000000   111.000000   106.750000  \n",
      "50%     182.000000   181.000000   180.000000   180.000000   179.000000  \n",
      "75%     208.000000   207.000000   205.000000   206.000000   204.000000  \n",
      "max     255.000000   255.000000   255.000000   255.000000   255.000000  \n",
      "\n",
      "[8 rows x 785 columns]\n"
     ]
    },
    {
     "data": {
      "text/plain": [
       "'We see there is an outlier in the train set'"
      ]
     },
     "execution_count": 2,
     "metadata": {},
     "output_type": "execute_result"
    }
   ],
   "source": [
    "print(train_set.describe())\n",
    "print(big_test_set.describe())\n",
    "'''We see there is an outlier in the train set''' "
   ]
  },
  {
   "cell_type": "code",
   "execution_count": 3,
   "metadata": {},
   "outputs": [],
   "source": [
    "train_set = train_set[train_set['label'] != 200]"
   ]
  },
  {
   "cell_type": "code",
   "execution_count": 4,
   "metadata": {},
   "outputs": [
    {
     "data": {
      "image/png": "[encoded data removed]",
      "text/plain": [
       "<Figure size 720x720 with 20 Axes>"
      ]
     },
     "metadata": {},
     "output_type": "display_data"
    }
   ],
   "source": [
    "#graph the first serveral images in train_set to get init view of the signs\n",
    "\n",
    "#reshape the data into 28*28 bitmap\n",
    "bitmap_values = train_set.drop(['label'], axis=1).values.reshape(-1,28,28)\n",
    "labels = train_set['label'].values\n",
    "#print(bitmap_value)\n",
    "plt.figure(figsize=(10,10))\n",
    "for i in range(20):\n",
    "    plt.subplot(5,4,i+1)\n",
    "    plt.grid(False)\n",
    "    plt.imshow(bitmap_values[i], cmap=plt.get_cmap('gray'))\n",
    "    plt.xticks([])\n",
    "    plt.yticks([])\n",
    "    plt.xlabel(chr(labels[i]+ord('a')))\n",
    "\n",
    "plt.show()"
   ]
  },
  {
   "cell_type": "code",
   "execution_count": null,
   "metadata": {},
   "outputs": [],
   "source": []
  },
  {
   "cell_type": "code",
   "execution_count": 5,
   "metadata": {},
   "outputs": [],
   "source": [
    "# y_train.describe()"
   ]
  },
  {
   "cell_type": "markdown",
   "metadata": {},
   "source": [
    "# val test split"
   ]
  },
  {
   "cell_type": "code",
   "execution_count": 6,
   "metadata": {},
   "outputs": [],
   "source": [
    "from sklearn.model_selection import train_test_split\n",
    "val_set, test_set = train_test_split(big_test_set, test_size=0.2, random_state=42, stratify=big_test_set['label'])\n",
    "\n",
    "\n",
    "\n",
    "X_train = np.array(train_set)[:,1:]\n",
    "y_train = np.array(train_set)[:,0]\n",
    "X_val = np.array(val_set)[:,1:]\n",
    "y_val = np.array(val_set)[:,0]\n",
    "X_test = np.array(test_set)[:,1:]\n",
    "y_test = np.array(test_set)[:,0]\n"
   ]
  },
  {
   "cell_type": "code",
   "execution_count": 7,
   "metadata": {},
   "outputs": [
    {
     "name": "stdout",
     "output_type": "stream",
     "text": [
      "(5737,)\n"
     ]
    }
   ],
   "source": [
    "print(y_val.shape)"
   ]
  },
  {
   "cell_type": "code",
   "execution_count": 8,
   "metadata": {},
   "outputs": [
    {
     "data": {
      "image/png": "[encoded data removed]",
      "text/plain": [
       "<Figure size 432x288 with 1 Axes>"
      ]
     },
     "metadata": {
      "needs_background": "light"
     },
     "output_type": "display_data"
    },
    {
     "data": {
      "image/png": "[encoded data removed]",
      "text/plain": [
       "<Figure size 432x288 with 1 Axes>"
      ]
     },
     "metadata": {
      "needs_background": "light"
     },
     "output_type": "display_data"
    },
    {
     "data": {
      "image/png": "[encoded data removed]",
      "text/plain": [
       "<Figure size 432x288 with 1 Axes>"
      ]
     },
     "metadata": {
      "needs_background": "light"
     },
     "output_type": "display_data"
    }
   ],
   "source": [
    "#looke at the destribution for the 3 sets\n",
    "plt.hist(y_train)\n",
    "plt.show()\n",
    "plt.hist(y_val)\n",
    "plt.show()\n",
    "plt.hist(y_test)\n",
    "plt.show()"
   ]
  },
  {
   "cell_type": "markdown",
   "metadata": {},
   "source": [
    "# Train Initial model"
   ]
  },
  {
   "cell_type": "code",
   "execution_count": 9,
   "metadata": {},
   "outputs": [
    {
     "name": "stdout",
     "output_type": "stream",
     "text": [
      "(27454, 784)\n"
     ]
    }
   ],
   "source": [
    "print(X_train.shape) #we need to reshape X sets"
   ]
  },
  {
   "cell_type": "code",
   "execution_count": 10,
   "metadata": {},
   "outputs": [],
   "source": [
    "X_train = X_train.reshape(X_train.shape[0],28,28,1)/255.0\n",
    "X_val=X_val.reshape(X_val.shape[0],28,28,1)/255.0\n",
    "X_test=X_test.reshape(X_test.shape[0],28,28,1)/255.0"
   ]
  },
  {
   "cell_type": "code",
   "execution_count": 11,
   "metadata": {},
   "outputs": [
    {
     "name": "stdout",
     "output_type": "stream",
     "text": [
      "(27454, 28, 28, 1)\n"
     ]
    }
   ],
   "source": [
    "print(X_train.shape) #now it's reshaped"
   ]
  },
  {
   "cell_type": "code",
   "execution_count": 12,
   "metadata": {},
   "outputs": [],
   "source": [
    "import keras\n",
    "# Some key parameters\n",
    "n_train = 300\n",
    "n_valid = 100\n",
    "hiddensizes = [16, 32, 16]\n",
    "actfn = \"elu\"\n",
    "# Optimiser and learning rate\n",
    "optimizer = keras.optimizers.SGD\n",
    "learningrate = 0.01   \n",
    "batch_size = 32\n",
    "n_epochs = 10"
   ]
  },
  {
   "cell_type": "markdown",
   "metadata": {},
   "source": [
    "### make helper functions"
   ]
  },
  {
   "cell_type": "code",
   "execution_count": 13,
   "metadata": {},
   "outputs": [],
   "source": [
    "def plot_history(history):\n",
    "    # Plot the results (shifting validation curves appropriately)\n",
    "    plt.figure(figsize=(8,5))\n",
    "    n = len(history.history['accuracy'])\n",
    "    plt.plot(np.arange(0,n),history.history['accuracy'], color='orange')\n",
    "    plt.plot(np.arange(0,n),history.history['loss'],'b')\n",
    "    plt.plot(np.arange(0,n)+0.5,history.history['val_accuracy'],'r')  # offset both validation curves\n",
    "    plt.plot(np.arange(0,n)+0.5,history.history['val_loss'],'g')\n",
    "    plt.legend(['Train Acc','Train Loss','Val Acc','Val Loss'])\n",
    "    plt.grid(True)\n",
    "    plt.gca().set_ylim(0, 1) # set the vertical range to [0-1] \n",
    "    plt.xlabel('Epochs')\n",
    "    plt.show() "
   ]
  },
  {
   "cell_type": "markdown",
   "metadata": {},
   "source": [
    "### CNN"
   ]
  },
  {
   "cell_type": "code",
   "execution_count": 14,
   "metadata": {},
   "outputs": [],
   "source": [
    "#i use the same model sections as workshop 10\n",
    "def model_cnn_factory(hiddensizes, actfn, optimizer, learningrate=0):\n",
    "    model = keras.models.Sequential()\n",
    "    model.add(keras.layers.Conv2D(hiddensizes[0],(3,3), activation=actfn, input_shape=(28,28,1)))    \n",
    "    model.add(keras.layers.MaxPooling2D(2,2))       \n",
    "    for n in hiddensizes[1:-1]:\n",
    "        model.add(keras.layers.Conv2D(n,(3,3), activation=actfn,))  \n",
    "        model.add(keras.layers.MaxPooling2D(2,2))         \n",
    "    model.add(keras.layers.Flatten())                         \n",
    "    model.add(keras.layers.Dense(256,activation=actfn))\n",
    "    model.add(keras.layers.Dense(128,activation=actfn))\n",
    "    model.add(keras.layers.Dense(26,activation=\"softmax\")) \n",
    "    model.compile(loss=\"sparse_categorical_crossentropy\", optimizer=optimizer(learning_rate=learningrate), metrics=[\"accuracy\"])   \n",
    "    return model"
   ]
  },
  {
   "cell_type": "code",
   "execution_count": 15,
   "metadata": {},
   "outputs": [],
   "source": [
    "def do_all_cnn(hiddensizes, actfn, optimizer, learningrate, n_train, n_valid, n_epochs, batch_size, further_callbacks=[]):\n",
    "    early_stopping_cb = keras.callbacks.EarlyStopping(monitor='val_loss', \n",
    "                                                  patience=5, \n",
    "                                                  restore_best_weights=True) \n",
    "    model = model_cnn_factory(hiddensizes, actfn, optimizer, learningrate)\n",
    "    callbacks = [early_stopping_cb]\n",
    "    history = model.fit(X_train, y_train, epochs=n_epochs, callbacks = [early_stopping_cb],\n",
    "                            validation_data=(X_val, y_val))\n",
    "    max_val_acc = np.max(history.history['val_accuracy'])\n",
    "    return (max_val_acc, history, model)"
   ]
  },
  {
   "cell_type": "code",
   "execution_count": 16,
   "metadata": {},
   "outputs": [
    {
     "name": "stdout",
     "output_type": "stream",
     "text": [
      "Epoch 1/10\n",
      "858/858 [==============================] - 20s 23ms/step - loss: 2.6934 - accuracy: 0.2149 - val_loss: 1.9350 - val_accuracy: 0.3941\n",
      "Epoch 2/10\n",
      "858/858 [==============================] - 19s 22ms/step - loss: 1.1791 - accuracy: 0.6441 - val_loss: 1.0654 - val_accuracy: 0.6625\n",
      "Epoch 3/10\n",
      "858/858 [==============================] - 19s 22ms/step - loss: 0.5401 - accuracy: 0.8416 - val_loss: 0.6748 - val_accuracy: 0.7642\n",
      "Epoch 4/10\n",
      "858/858 [==============================] - 19s 22ms/step - loss: 0.2446 - accuracy: 0.9367 - val_loss: 0.4980 - val_accuracy: 0.8395\n",
      "Epoch 5/10\n",
      "858/858 [==============================] - 19s 22ms/step - loss: 0.1044 - accuracy: 0.9816 - val_loss: 0.4442 - val_accuracy: 0.8506\n",
      "Epoch 6/10\n",
      "858/858 [==============================] - 19s 22ms/step - loss: 0.0484 - accuracy: 0.9947 - val_loss: 0.4374 - val_accuracy: 0.8613\n",
      "Epoch 7/10\n",
      "858/858 [==============================] - 19s 22ms/step - loss: 0.0255 - accuracy: 0.9983 - val_loss: 0.4351 - val_accuracy: 0.8726\n",
      "Epoch 8/10\n",
      "858/858 [==============================] - 18s 21ms/step - loss: 0.0151 - accuracy: 0.9995 - val_loss: 0.4398 - val_accuracy: 0.8790\n",
      "Epoch 9/10\n",
      "858/858 [==============================] - 15s 17ms/step - loss: 0.0098 - accuracy: 1.0000 - val_loss: 0.4451 - val_accuracy: 0.8740\n",
      "Epoch 10/10\n",
      "858/858 [==============================] - 18s 20ms/step - loss: 0.0075 - accuracy: 0.9999 - val_loss: 0.4535 - val_accuracy: 0.8822\n"
     ]
    }
   ],
   "source": [
    "valacc, history, model = do_all_cnn(hiddensizes, actfn, optimizer, learningrate, n_train, n_valid, n_epochs, batch_size)\n",
    "# model.summary()\n",
    "# model.fit(X_train, y_train, epochs=n_epochs,\n",
    "#                             validation_data=(X_val, y_val))"
   ]
  },
  {
   "cell_type": "code",
   "execution_count": 17,
   "metadata": {},
   "outputs": [
    {
     "data": {
      "image/png": "[encoded data removed]",
      "text/plain": [
       "<Figure size 576x360 with 1 Axes>"
      ]
     },
     "metadata": {
      "needs_background": "light"
     },
     "output_type": "display_data"
    }
   ],
   "source": [
    "plot_history(history)"
   ]
  },
  {
   "cell_type": "code",
   "execution_count": 18,
   "metadata": {},
   "outputs": [
    {
     "name": "stdout",
     "output_type": "stream",
     "text": [
      "Test Loss :  0.4337109625339508\n",
      "Test Accuracy :  0.8857142925262451\n"
     ]
    }
   ],
   "source": [
    "score = model.evaluate(X_test,y_test,verbose=0)\n",
    "print(\"Test Loss : \", score[0])\n",
    "print(\"Test Accuracy : \", score[1])"
   ]
  },
  {
   "cell_type": "markdown",
   "metadata": {},
   "source": [
    "### densely connected"
   ]
  },
  {
   "cell_type": "code",
   "execution_count": 19,
   "metadata": {},
   "outputs": [],
   "source": [
    "def model_dense_factory(hiddensizes, actfn, optimizer, learningrate):\n",
    "    model = keras.models.Sequential()\n",
    "    model.add(keras.layers.Flatten(input_shape = (28, 28, 1)))\n",
    "    model.add(keras.layers.Dense(256,activation=actfn))\n",
    "    model.add(keras.layers.Dense(128,activation=actfn))\n",
    "    model.add(keras.layers.Dense(26,activation=\"softmax\"))    \n",
    "    model.compile(loss=\"sparse_categorical_crossentropy\", optimizer=optimizer(learning_rate=learningrate), metrics=[\"accuracy\"])\n",
    "    return model"
   ]
  },
  {
   "cell_type": "code",
   "execution_count": 20,
   "metadata": {},
   "outputs": [],
   "source": [
    "def do_all_dense(hiddensizes, actfn, optimizer, learningrate, n_train, n_valid, n_epochs, batch_size, further_callbacks=[]):\n",
    "    early_stopping_cb = keras.callbacks.EarlyStopping(monitor='val_loss', \n",
    "                                                  patience=5, \n",
    "                                                  restore_best_weights=True) \n",
    "    model = model_dense_factory(hiddensizes, actfn, optimizer, learningrate)\n",
    "    callbacks = [early_stopping_cb]\n",
    "    history = model.fit(X_train, y_train, epochs=n_epochs, callbacks = [early_stopping_cb],\n",
    "                            validation_data=(X_val, y_val))\n",
    "    max_val_acc = np.max(history.history['val_accuracy'])\n",
    "    return (max_val_acc, history, model)"
   ]
  },
  {
   "cell_type": "code",
   "execution_count": 21,
   "metadata": {},
   "outputs": [
    {
     "name": "stdout",
     "output_type": "stream",
     "text": [
      "Epoch 1/10\n",
      "858/858 [==============================] - 6s 6ms/step - loss: 2.3443 - accuracy: 0.3378 - val_loss: 1.8782 - val_accuracy: 0.3964\n",
      "Epoch 2/10\n",
      "858/858 [==============================] - 5s 6ms/step - loss: 1.4068 - accuracy: 0.5956 - val_loss: 1.4086 - val_accuracy: 0.5703\n",
      "Epoch 3/10\n",
      "858/858 [==============================] - 5s 6ms/step - loss: 1.0551 - accuracy: 0.6898 - val_loss: 1.2972 - val_accuracy: 0.6094\n",
      "Epoch 4/10\n",
      "858/858 [==============================] - 5s 6ms/step - loss: 0.8585 - accuracy: 0.7470 - val_loss: 1.1465 - val_accuracy: 0.6488\n",
      "Epoch 5/10\n",
      "858/858 [==============================] - 5s 6ms/step - loss: 0.7280 - accuracy: 0.7838 - val_loss: 1.1496 - val_accuracy: 0.6280\n",
      "Epoch 6/10\n",
      "858/858 [==============================] - 5s 6ms/step - loss: 0.6203 - accuracy: 0.8189 - val_loss: 1.0159 - val_accuracy: 0.6781\n",
      "Epoch 7/10\n",
      "858/858 [==============================] - 5s 6ms/step - loss: 0.5418 - accuracy: 0.8396 - val_loss: 0.9455 - val_accuracy: 0.7011\n",
      "Epoch 8/10\n",
      "858/858 [==============================] - 5s 6ms/step - loss: 0.4719 - accuracy: 0.8650 - val_loss: 1.2219 - val_accuracy: 0.6526\n",
      "Epoch 9/10\n",
      "858/858 [==============================] - 5s 6ms/step - loss: 0.4041 - accuracy: 0.8812 - val_loss: 1.0402 - val_accuracy: 0.6758\n",
      "Epoch 10/10\n",
      "858/858 [==============================] - 5s 5ms/step - loss: 0.3458 - accuracy: 0.9017 - val_loss: 1.0632 - val_accuracy: 0.6941\n",
      "Model: \"sequential_1\"\n",
      "_________________________________________________________________\n",
      " Layer (type)                Output Shape              Param #   \n",
      "=================================================================\n",
      " flatten_1 (Flatten)         (None, 784)               0         \n",
      "                                                                 \n",
      " dense_3 (Dense)             (None, 256)               200960    \n",
      "                                                                 \n",
      " dense_4 (Dense)             (None, 128)               32896     \n",
      "                                                                 \n",
      " dense_5 (Dense)             (None, 26)                3354      \n",
      "                                                                 \n",
      "=================================================================\n",
      "Total params: 237,210\n",
      "Trainable params: 237,210\n",
      "Non-trainable params: 0\n",
      "_________________________________________________________________\n"
     ]
    }
   ],
   "source": [
    "valacc, history, model = do_all_dense(hiddensizes, actfn, optimizer, learningrate, n_train, n_valid, n_epochs, batch_size)\n",
    "model.summary()"
   ]
  },
  {
   "cell_type": "code",
   "execution_count": 22,
   "metadata": {},
   "outputs": [
    {
     "data": {
      "image/png": "[encoded data removed]",
      "text/plain": [
       "<Figure size 576x360 with 1 Axes>"
      ]
     },
     "metadata": {
      "needs_background": "light"
     },
     "output_type": "display_data"
    }
   ],
   "source": [
    "plot_history(history)"
   ]
  },
  {
   "cell_type": "code",
   "execution_count": 23,
   "metadata": {},
   "outputs": [
    {
     "name": "stdout",
     "output_type": "stream",
     "text": [
      "Test Loss :  1.1009924411773682\n",
      "Test Accuracy :  0.687108039855957\n"
     ]
    }
   ],
   "source": [
    "score = model.evaluate(X_test,y_test,verbose=0)\n",
    "print(\"Test Loss : \", score[0])\n",
    "print(\"Test Accuracy : \", score[1])"
   ]
  },
  {
   "cell_type": "markdown",
   "metadata": {},
   "source": [
    "For this two initial models, the cnn model is better than the dense model"
   ]
  },
  {
   "cell_type": "markdown",
   "metadata": {},
   "source": [
    "# Optimize models"
   ]
  },
  {
   "cell_type": "markdown",
   "metadata": {},
   "source": [
    "### CNN model"
   ]
  },
  {
   "cell_type": "code",
   "execution_count": 24,
   "metadata": {
    "scrolled": false
   },
   "outputs": [
    {
     "name": "stdout",
     "output_type": "stream",
     "text": [
      "Epoch 1/10\n",
      "858/858 [==============================] - 20s 22ms/step - loss: 2.8429 - accuracy: 0.2113 - val_loss: 2.0440 - val_accuracy: 0.3983\n",
      "Epoch 2/10\n",
      "858/858 [==============================] - 18s 21ms/step - loss: 1.1540 - accuracy: 0.6693 - val_loss: 0.9003 - val_accuracy: 0.6920\n",
      "Epoch 3/10\n",
      "858/858 [==============================] - 18s 21ms/step - loss: 0.4679 - accuracy: 0.8651 - val_loss: 0.6016 - val_accuracy: 0.7873\n",
      "Epoch 4/10\n",
      "858/858 [==============================] - 18s 21ms/step - loss: 0.2098 - accuracy: 0.9457 - val_loss: 0.4775 - val_accuracy: 0.8429\n",
      "Epoch 5/10\n",
      "858/858 [==============================] - 18s 21ms/step - loss: 0.0915 - accuracy: 0.9844 - val_loss: 0.3983 - val_accuracy: 0.8780\n",
      "Epoch 6/10\n",
      "858/858 [==============================] - 18s 21ms/step - loss: 0.0441 - accuracy: 0.9954 - val_loss: 0.4077 - val_accuracy: 0.8790\n",
      "Epoch 7/10\n",
      "858/858 [==============================] - 18s 21ms/step - loss: 0.0243 - accuracy: 0.9989 - val_loss: 0.4209 - val_accuracy: 0.8735\n",
      "Epoch 8/10\n",
      "858/858 [==============================] - 18s 21ms/step - loss: 0.0154 - accuracy: 0.9995 - val_loss: 0.3879 - val_accuracy: 0.8893\n",
      "Epoch 9/10\n",
      "858/858 [==============================] - 18s 21ms/step - loss: 0.0115 - accuracy: 0.9997 - val_loss: 0.3813 - val_accuracy: 0.8972\n",
      "Epoch 10/10\n",
      "858/858 [==============================] - 18s 21ms/step - loss: 0.0083 - accuracy: 0.9999 - val_loss: 0.4078 - val_accuracy: 0.8914\n",
      "Epoch 1/10\n",
      "858/858 [==============================] - 20s 22ms/step - loss: 2.6791 - accuracy: 0.2216 - val_loss: 1.8507 - val_accuracy: 0.4013\n",
      "Epoch 2/10\n",
      "858/858 [==============================] - 18s 22ms/step - loss: 1.0754 - accuracy: 0.6756 - val_loss: 0.9136 - val_accuracy: 0.6962\n",
      "Epoch 3/10\n",
      "858/858 [==============================] - 19s 22ms/step - loss: 0.4340 - accuracy: 0.8782 - val_loss: 0.5671 - val_accuracy: 0.8170\n",
      "Epoch 4/10\n",
      "858/858 [==============================] - 18s 22ms/step - loss: 0.1684 - accuracy: 0.9637 - val_loss: 0.4044 - val_accuracy: 0.8740\n",
      "Epoch 5/10\n",
      "858/858 [==============================] - 19s 22ms/step - loss: 0.0662 - accuracy: 0.9921 - val_loss: 0.4520 - val_accuracy: 0.8665\n",
      "Epoch 6/10\n",
      "858/858 [==============================] - 18s 21ms/step - loss: 0.0306 - accuracy: 0.9989 - val_loss: 0.4323 - val_accuracy: 0.8905\n",
      "Epoch 7/10\n",
      "858/858 [==============================] - 18s 21ms/step - loss: 0.0170 - accuracy: 0.9999 - val_loss: 0.4225 - val_accuracy: 0.9092\n",
      "Epoch 8/10\n",
      "858/858 [==============================] - 18s 21ms/step - loss: 0.0109 - accuracy: 0.9999 - val_loss: 0.4361 - val_accuracy: 0.9010\n",
      "Epoch 9/10\n",
      "858/858 [==============================] - 18s 21ms/step - loss: 0.0078 - accuracy: 1.0000 - val_loss: 0.4368 - val_accuracy: 0.9031\n",
      "Epoch 1/10\n",
      "858/858 [==============================] - 20s 22ms/step - loss: 2.6882 - accuracy: 0.2189 - val_loss: 1.8961 - val_accuracy: 0.4288\n",
      "Epoch 2/10\n",
      "858/858 [==============================] - 18s 21ms/step - loss: 1.1524 - accuracy: 0.6540 - val_loss: 1.0314 - val_accuracy: 0.6760\n",
      "Epoch 3/10\n",
      "858/858 [==============================] - 18s 21ms/step - loss: 0.5267 - accuracy: 0.8447 - val_loss: 0.6457 - val_accuracy: 0.7900\n",
      "Epoch 4/10\n",
      "858/858 [==============================] - 18s 21ms/step - loss: 0.2393 - accuracy: 0.9361 - val_loss: 0.4726 - val_accuracy: 0.8468\n",
      "Epoch 5/10\n",
      "858/858 [==============================] - 18s 21ms/step - loss: 0.1050 - accuracy: 0.9799 - val_loss: 0.4076 - val_accuracy: 0.8715\n",
      "Epoch 6/10\n",
      "858/858 [==============================] - 18s 21ms/step - loss: 0.0487 - accuracy: 0.9942 - val_loss: 0.3835 - val_accuracy: 0.8925\n",
      "Epoch 7/10\n",
      "858/858 [==============================] - 18s 21ms/step - loss: 0.0259 - accuracy: 0.9983 - val_loss: 0.3894 - val_accuracy: 0.8919\n",
      "Epoch 8/10\n",
      "858/858 [==============================] - 18s 21ms/step - loss: 0.0151 - accuracy: 0.9996 - val_loss: 0.3812 - val_accuracy: 0.9062\n",
      "Epoch 9/10\n",
      "858/858 [==============================] - 18s 21ms/step - loss: 0.0101 - accuracy: 0.9999 - val_loss: 0.3889 - val_accuracy: 0.9043\n",
      "Epoch 10/10\n",
      "858/858 [==============================] - 18s 21ms/step - loss: 0.0072 - accuracy: 1.0000 - val_loss: 0.4201 - val_accuracy: 0.8954\n",
      "Epoch 1/10\n",
      "858/858 [==============================] - 22s 23ms/step - loss: 1.8190 - accuracy: 0.6186 - val_loss: 0.6021 - val_accuracy: 0.8365\n",
      "Epoch 2/10\n",
      "858/858 [==============================] - 19s 22ms/step - loss: 42.5986 - accuracy: 0.6568 - val_loss: 3.2376 - val_accuracy: 0.0288\n",
      "Epoch 3/10\n",
      "858/858 [==============================] - 19s 22ms/step - loss: 3.2258 - accuracy: 0.0432 - val_loss: 3.2332 - val_accuracy: 0.0608\n",
      "Epoch 4/10\n",
      "858/858 [==============================] - 19s 22ms/step - loss: 3.2322 - accuracy: 0.0414 - val_loss: 3.2265 - val_accuracy: 0.0228\n",
      "Epoch 5/10\n",
      "858/858 [==============================] - 19s 22ms/step - loss: 3.2394 - accuracy: 0.0411 - val_loss: 3.3001 - val_accuracy: 0.0200\n",
      "Epoch 6/10\n",
      "858/858 [==============================] - 19s 22ms/step - loss: 3.2434 - accuracy: 0.0428 - val_loss: 3.2293 - val_accuracy: 0.0401\n",
      "Epoch 1/10\n",
      "858/858 [==============================] - 21s 22ms/step - loss: 1.6511 - accuracy: 0.6642 - val_loss: 0.5229 - val_accuracy: 0.8653\n",
      "Epoch 2/10\n",
      "858/858 [==============================] - 19s 22ms/step - loss: 30.4509 - accuracy: 0.5898 - val_loss: 3.2810 - val_accuracy: 0.0343\n",
      "Epoch 3/10\n",
      "858/858 [==============================] - 19s 22ms/step - loss: 3.2486 - accuracy: 0.0419 - val_loss: 3.2615 - val_accuracy: 0.0291\n",
      "Epoch 4/10\n",
      "858/858 [==============================] - 19s 22ms/step - loss: 3.2580 - accuracy: 0.0428 - val_loss: 3.2653 - val_accuracy: 0.0371\n",
      "Epoch 5/10\n",
      "858/858 [==============================] - 19s 22ms/step - loss: 3.2611 - accuracy: 0.0439 - val_loss: 3.3055 - val_accuracy: 0.0485\n",
      "Epoch 6/10\n",
      "858/858 [==============================] - 19s 22ms/step - loss: 3.2730 - accuracy: 0.0406 - val_loss: 3.2643 - val_accuracy: 0.0343\n",
      "Epoch 1/10\n",
      "858/858 [==============================] - 21s 22ms/step - loss: 7.8620 - accuracy: 0.3744 - val_loss: 3.2719 - val_accuracy: 0.0288\n",
      "Epoch 2/10\n",
      "858/858 [==============================] - 19s 22ms/step - loss: 3.2558 - accuracy: 0.0436 - val_loss: 3.2823 - val_accuracy: 0.0288\n",
      "Epoch 3/10\n",
      "858/858 [==============================] - 19s 22ms/step - loss: 3.2674 - accuracy: 0.0415 - val_loss: 3.3340 - val_accuracy: 0.0288\n",
      "Epoch 4/10\n",
      "858/858 [==============================] - 19s 22ms/step - loss: 3.2762 - accuracy: 0.0428 - val_loss: 3.3065 - val_accuracy: 0.0200\n",
      "Epoch 5/10\n",
      "858/858 [==============================] - 19s 22ms/step - loss: 3.2839 - accuracy: 0.0424 - val_loss: 3.3016 - val_accuracy: 0.0464\n",
      "Epoch 6/10\n",
      "858/858 [==============================] - 19s 22ms/step - loss: 3.2862 - accuracy: 0.0432 - val_loss: 3.2578 - val_accuracy: 0.0345\n",
      "Epoch 7/10\n",
      "858/858 [==============================] - 19s 22ms/step - loss: 3.2944 - accuracy: 0.0421 - val_loss: 3.2392 - val_accuracy: 0.0371\n",
      "Epoch 8/10\n",
      "858/858 [==============================] - 19s 22ms/step - loss: 3.3005 - accuracy: 0.0415 - val_loss: 3.2613 - val_accuracy: 0.0432\n",
      "Epoch 9/10\n",
      "858/858 [==============================] - 19s 22ms/step - loss: 3.2989 - accuracy: 0.0427 - val_loss: 3.4092 - val_accuracy: 0.0288\n",
      "Epoch 10/10\n",
      "858/858 [==============================] - 19s 22ms/step - loss: 3.3033 - accuracy: 0.0403 - val_loss: 3.3982 - val_accuracy: 0.0345\n",
      "Epoch 1/10\n",
      "858/858 [==============================] - 20s 22ms/step - loss: 2.7539 - accuracy: 0.2034 - val_loss: 1.9850 - val_accuracy: 0.3891\n",
      "Epoch 2/10\n",
      "858/858 [==============================] - 19s 22ms/step - loss: 1.2240 - accuracy: 0.6343 - val_loss: 0.9688 - val_accuracy: 0.7131\n",
      "Epoch 3/10\n",
      "858/858 [==============================] - 18s 21ms/step - loss: 0.5166 - accuracy: 0.8540 - val_loss: 0.6608 - val_accuracy: 0.7940\n",
      "Epoch 4/10\n",
      "858/858 [==============================] - 18s 21ms/step - loss: 0.2176 - accuracy: 0.9460 - val_loss: 0.6148 - val_accuracy: 0.8036\n",
      "Epoch 5/10\n",
      "858/858 [==============================] - 19s 22ms/step - loss: 0.0900 - accuracy: 0.9850 - val_loss: 0.4693 - val_accuracy: 0.8686\n",
      "Epoch 6/10\n",
      "858/858 [==============================] - 19s 22ms/step - loss: 0.0397 - accuracy: 0.9975 - val_loss: 0.4542 - val_accuracy: 0.8679\n"
     ]
    },
    {
     "name": "stdout",
     "output_type": "stream",
     "text": [
      "Epoch 7/10\n",
      "858/858 [==============================] - 18s 21ms/step - loss: 0.0226 - accuracy: 0.9991 - val_loss: 0.4614 - val_accuracy: 0.8801\n",
      "Epoch 8/10\n",
      "858/858 [==============================] - 18s 21ms/step - loss: 0.0134 - accuracy: 0.9999 - val_loss: 0.4706 - val_accuracy: 0.8785\n",
      "Epoch 9/10\n",
      "858/858 [==============================] - 18s 21ms/step - loss: 0.0096 - accuracy: 0.9999 - val_loss: 0.4783 - val_accuracy: 0.8790\n",
      "Epoch 10/10\n",
      "858/858 [==============================] - 18s 21ms/step - loss: 0.0071 - accuracy: 0.9999 - val_loss: 0.4997 - val_accuracy: 0.8796\n",
      "Epoch 1/10\n",
      "858/858 [==============================] - 20s 22ms/step - loss: 2.7031 - accuracy: 0.2158 - val_loss: 1.8774 - val_accuracy: 0.4265\n",
      "Epoch 2/10\n",
      "858/858 [==============================] - 18s 21ms/step - loss: 1.1368 - accuracy: 0.6628 - val_loss: 0.9380 - val_accuracy: 0.6958\n",
      "Epoch 3/10\n",
      "858/858 [==============================] - 18s 21ms/step - loss: 0.4840 - accuracy: 0.8615 - val_loss: 0.6206 - val_accuracy: 0.7879\n",
      "Epoch 4/10\n",
      "858/858 [==============================] - 18s 21ms/step - loss: 0.2057 - accuracy: 0.9498 - val_loss: 0.5518 - val_accuracy: 0.8346\n",
      "Epoch 5/10\n",
      "858/858 [==============================] - 18s 21ms/step - loss: 0.0886 - accuracy: 0.9849 - val_loss: 0.4312 - val_accuracy: 0.8715\n",
      "Epoch 6/10\n",
      "858/858 [==============================] - 18s 21ms/step - loss: 0.0409 - accuracy: 0.9964 - val_loss: 0.4242 - val_accuracy: 0.8888\n",
      "Epoch 7/10\n",
      "858/858 [==============================] - 18s 21ms/step - loss: 0.0214 - accuracy: 0.9992 - val_loss: 0.4104 - val_accuracy: 0.8938\n",
      "Epoch 8/10\n",
      "858/858 [==============================] - 18s 21ms/step - loss: 0.0132 - accuracy: 0.9999 - val_loss: 0.4235 - val_accuracy: 0.9036\n",
      "Epoch 9/10\n",
      "858/858 [==============================] - 18s 21ms/step - loss: 0.0092 - accuracy: 1.0000 - val_loss: 0.4276 - val_accuracy: 0.9012\n",
      "Epoch 10/10\n",
      "858/858 [==============================] - 18s 21ms/step - loss: 0.0069 - accuracy: 1.0000 - val_loss: 0.4452 - val_accuracy: 0.8944\n",
      "Epoch 1/10\n",
      "858/858 [==============================] - 21s 23ms/step - loss: 2.7953 - accuracy: 0.2036 - val_loss: 1.9229 - val_accuracy: 0.4236\n",
      "Epoch 2/10\n",
      "858/858 [==============================] - 19s 23ms/step - loss: 1.1487 - accuracy: 0.6603 - val_loss: 0.9537 - val_accuracy: 0.6962\n",
      "Epoch 3/10\n",
      "858/858 [==============================] - 19s 22ms/step - loss: 0.4460 - accuracy: 0.8738 - val_loss: 0.5276 - val_accuracy: 0.8438\n",
      "Epoch 4/10\n",
      "858/858 [==============================] - 19s 22ms/step - loss: 0.1681 - accuracy: 0.9642 - val_loss: 0.3794 - val_accuracy: 0.8886\n",
      "Epoch 5/10\n",
      "858/858 [==============================] - 19s 23ms/step - loss: 0.0634 - accuracy: 0.9932 - val_loss: 0.3452 - val_accuracy: 0.8991\n",
      "Epoch 6/10\n",
      "858/858 [==============================] - 19s 23ms/step - loss: 0.0280 - accuracy: 0.9993 - val_loss: 0.3450 - val_accuracy: 0.9059\n",
      "Epoch 7/10\n",
      "858/858 [==============================] - 19s 23ms/step - loss: 0.0157 - accuracy: 1.0000 - val_loss: 0.3521 - val_accuracy: 0.9111\n",
      "Epoch 8/10\n",
      "858/858 [==============================] - 19s 23ms/step - loss: 0.0102 - accuracy: 1.0000 - val_loss: 0.3730 - val_accuracy: 0.9156\n",
      "Epoch 9/10\n",
      "858/858 [==============================] - 19s 23ms/step - loss: 0.0073 - accuracy: 1.0000 - val_loss: 0.3773 - val_accuracy: 0.9144\n",
      "Epoch 10/10\n",
      "858/858 [==============================] - 19s 23ms/step - loss: 0.0056 - accuracy: 1.0000 - val_loss: 0.3837 - val_accuracy: 0.9148\n",
      "Epoch 1/10\n",
      "858/858 [==============================] - 22s 23ms/step - loss: 1.4988 - accuracy: 0.6762 - val_loss: 0.4587 - val_accuracy: 0.8524\n",
      "Epoch 2/10\n",
      "858/858 [==============================] - 20s 23ms/step - loss: 37.0937 - accuracy: 0.3257 - val_loss: 3.2860 - val_accuracy: 0.0291\n",
      "Epoch 3/10\n",
      "858/858 [==============================] - 19s 23ms/step - loss: 3.2317 - accuracy: 0.0444 - val_loss: 3.2569 - val_accuracy: 0.0345\n",
      "Epoch 4/10\n",
      "858/858 [==============================] - 19s 23ms/step - loss: 3.2418 - accuracy: 0.0421 - val_loss: 3.3070 - val_accuracy: 0.0432\n",
      "Epoch 5/10\n",
      "858/858 [==============================] - 19s 23ms/step - loss: 3.2517 - accuracy: 0.0440 - val_loss: 3.2575 - val_accuracy: 0.0464\n",
      "Epoch 6/10\n",
      "858/858 [==============================] - 19s 23ms/step - loss: 3.2596 - accuracy: 0.0421 - val_loss: 3.3417 - val_accuracy: 0.0200\n",
      "Epoch 1/10\n",
      "858/858 [==============================] - 22s 23ms/step - loss: 20.4025 - accuracy: 0.3280 - val_loss: 3.2426 - val_accuracy: 0.0345\n",
      "Epoch 2/10\n",
      "858/858 [==============================] - 19s 22ms/step - loss: 3.2232 - accuracy: 0.0431 - val_loss: 3.2574 - val_accuracy: 0.0373\n",
      "Epoch 3/10\n",
      "858/858 [==============================] - 19s 22ms/step - loss: 3.2342 - accuracy: 0.0437 - val_loss: 3.2426 - val_accuracy: 0.0288\n",
      "Epoch 4/10\n",
      "858/858 [==============================] - 19s 22ms/step - loss: 3.2420 - accuracy: 0.0402 - val_loss: 3.2535 - val_accuracy: 0.0401\n",
      "Epoch 5/10\n",
      "858/858 [==============================] - 19s 22ms/step - loss: 3.2548 - accuracy: 0.0413 - val_loss: 3.2861 - val_accuracy: 0.0462\n",
      "Epoch 6/10\n",
      "858/858 [==============================] - 19s 22ms/step - loss: 3.2634 - accuracy: 0.0416 - val_loss: 3.2873 - val_accuracy: 0.0200\n",
      "Epoch 1/10\n",
      "858/858 [==============================] - 22s 23ms/step - loss: 1.0873 - accuracy: 0.7998 - val_loss: 0.4569 - val_accuracy: 0.9078\n",
      "Epoch 2/10\n",
      "858/858 [==============================] - 19s 22ms/step - loss: 0.0015 - accuracy: 0.9998 - val_loss: 0.3891 - val_accuracy: 0.9266\n",
      "Epoch 3/10\n",
      "858/858 [==============================] - 19s 22ms/step - loss: 1.4509e-04 - accuracy: 1.0000 - val_loss: 0.4100 - val_accuracy: 0.9294\n",
      "Epoch 4/10\n",
      "858/858 [==============================] - 19s 22ms/step - loss: 7.0091e-05 - accuracy: 1.0000 - val_loss: 0.4045 - val_accuracy: 0.9315\n",
      "Epoch 5/10\n",
      "858/858 [==============================] - 19s 22ms/step - loss: 3.8440e-05 - accuracy: 1.0000 - val_loss: 0.4233 - val_accuracy: 0.9346\n",
      "Epoch 6/10\n",
      "858/858 [==============================] - 19s 22ms/step - loss: 2.2324e-05 - accuracy: 1.0000 - val_loss: 0.4300 - val_accuracy: 0.9359\n",
      "Epoch 7/10\n",
      "858/858 [==============================] - 19s 22ms/step - loss: 1.3070e-05 - accuracy: 1.0000 - val_loss: 0.4507 - val_accuracy: 0.9393\n"
     ]
    }
   ],
   "source": [
    "max_valacc = 0\n",
    "\n",
    "for learning_rate in [0.001,0.01]:\n",
    "    for optimizer in [keras.optimizers.SGD,keras.optimizers.Nadam]:\n",
    "        for acfn in ['relu','selu',\"sigmoid\"]:\n",
    "            valacc, history, model = do_all_cnn(hiddensizes, actfn, optimizer, learningrate, n_train, n_valid, n_epochs, batch_size)\n",
    "            if valacc > max_valacc:\n",
    "                max_valacc = valacc\n",
    "                max_learning_rate = learning_rate\n",
    "                max_optimizer = optimizer\n",
    "                max_acfn = acfn\n",
    "                best_history = history\n",
    "                "
   ]
  },
  {
   "cell_type": "code",
   "execution_count": null,
   "metadata": {},
   "outputs": [],
   "source": []
  },
  {
   "cell_type": "code",
   "execution_count": 25,
   "metadata": {},
   "outputs": [
    {
     "name": "stdout",
     "output_type": "stream",
     "text": [
      "the max val accurency after trained is 0.939341127872467 with the model: max_learning_rate: 0.01, max_optimizer: <class 'keras.optimizers.optimizer_v2.nadam.Nadam'>, max_acfn: sigmoid\n"
     ]
    }
   ],
   "source": [
    "print(f'the max val accurency after trained is {max_valacc} with the model: max_learning_rate: {max_learning_rate}, max_optimizer: {max_optimizer}, max_acfn: {max_acfn}')\n"
   ]
  },
  {
   "cell_type": "code",
   "execution_count": 26,
   "metadata": {},
   "outputs": [
    {
     "data": {
      "image/png": "[encoded data removed]",
      "text/plain": [
       "<Figure size 576x360 with 1 Axes>"
      ]
     },
     "metadata": {
      "needs_background": "light"
     },
     "output_type": "display_data"
    }
   ],
   "source": [
    "#look at the graph\n",
    "plot_history(best_history)"
   ]
  },
  {
   "cell_type": "markdown",
   "metadata": {},
   "source": [
    "### dense model"
   ]
  },
  {
   "cell_type": "code",
   "execution_count": 27,
   "metadata": {},
   "outputs": [
    {
     "name": "stdout",
     "output_type": "stream",
     "text": [
      "Epoch 1/10\n",
      "858/858 [==============================] - 6s 6ms/step - loss: 2.3733 - accuracy: 0.3364 - val_loss: 1.8917 - val_accuracy: 0.4060\n",
      "Epoch 2/10\n",
      "858/858 [==============================] - 5s 6ms/step - loss: 1.4246 - accuracy: 0.5849 - val_loss: 1.4399 - val_accuracy: 0.5510\n",
      "Epoch 3/10\n",
      "858/858 [==============================] - 5s 6ms/step - loss: 1.0733 - accuracy: 0.6810 - val_loss: 1.2838 - val_accuracy: 0.5937\n",
      "Epoch 4/10\n",
      "858/858 [==============================] - 5s 6ms/step - loss: 0.8766 - accuracy: 0.7394 - val_loss: 1.2215 - val_accuracy: 0.6244\n",
      "Epoch 5/10\n",
      "858/858 [==============================] - 5s 6ms/step - loss: 0.7460 - accuracy: 0.7758 - val_loss: 1.0498 - val_accuracy: 0.6751\n",
      "Epoch 6/10\n",
      "858/858 [==============================] - 5s 6ms/step - loss: 0.6457 - accuracy: 0.8095 - val_loss: 1.0707 - val_accuracy: 0.6775\n",
      "Epoch 7/10\n",
      "858/858 [==============================] - 5s 6ms/step - loss: 0.5581 - accuracy: 0.8381 - val_loss: 1.0237 - val_accuracy: 0.6821\n",
      "Epoch 8/10\n",
      "858/858 [==============================] - 5s 6ms/step - loss: 0.4879 - accuracy: 0.8549 - val_loss: 1.0119 - val_accuracy: 0.6869\n",
      "Epoch 9/10\n",
      "858/858 [==============================] - 5s 6ms/step - loss: 0.4237 - accuracy: 0.8774 - val_loss: 1.0470 - val_accuracy: 0.6763\n",
      "Epoch 10/10\n",
      "858/858 [==============================] - 5s 6ms/step - loss: 0.3771 - accuracy: 0.8922 - val_loss: 0.9626 - val_accuracy: 0.7126\n",
      "Epoch 1/10\n",
      "858/858 [==============================] - 6s 6ms/step - loss: 2.3223 - accuracy: 0.3429 - val_loss: 1.7543 - val_accuracy: 0.4882\n",
      "Epoch 2/10\n",
      "858/858 [==============================] - 5s 6ms/step - loss: 1.3935 - accuracy: 0.5942 - val_loss: 1.4812 - val_accuracy: 0.5487\n",
      "Epoch 3/10\n",
      "858/858 [==============================] - 5s 6ms/step - loss: 1.0588 - accuracy: 0.6873 - val_loss: 1.2490 - val_accuracy: 0.6076\n",
      "Epoch 4/10\n",
      "858/858 [==============================] - 5s 6ms/step - loss: 0.8694 - accuracy: 0.7389 - val_loss: 1.1723 - val_accuracy: 0.6390\n",
      "Epoch 5/10\n",
      "858/858 [==============================] - 5s 6ms/step - loss: 0.7351 - accuracy: 0.7805 - val_loss: 1.2099 - val_accuracy: 0.6312\n",
      "Epoch 6/10\n",
      "858/858 [==============================] - 5s 6ms/step - loss: 0.6413 - accuracy: 0.8084 - val_loss: 1.1005 - val_accuracy: 0.6744\n",
      "Epoch 7/10\n",
      "858/858 [==============================] - 5s 6ms/step - loss: 0.5632 - accuracy: 0.8334 - val_loss: 0.9951 - val_accuracy: 0.6861\n",
      "Epoch 8/10\n",
      "858/858 [==============================] - 5s 6ms/step - loss: 0.4836 - accuracy: 0.8583 - val_loss: 1.1905 - val_accuracy: 0.6362\n",
      "Epoch 9/10\n",
      "858/858 [==============================] - 5s 6ms/step - loss: 0.4288 - accuracy: 0.8772 - val_loss: 1.0896 - val_accuracy: 0.6672\n",
      "Epoch 10/10\n",
      "858/858 [==============================] - 5s 6ms/step - loss: 0.3743 - accuracy: 0.8907 - val_loss: 1.1148 - val_accuracy: 0.6979\n",
      "Epoch 1/10\n",
      "858/858 [==============================] - 8s 7ms/step - loss: 3.2305 - accuracy: 0.0859 - val_loss: 2.9389 - val_accuracy: 0.1252\n",
      "Epoch 2/10\n",
      "858/858 [==============================] - 6s 7ms/step - loss: 2.6120 - accuracy: 0.1661 - val_loss: 2.4028 - val_accuracy: 0.2189\n",
      "Epoch 3/10\n",
      "858/858 [==============================] - 6s 7ms/step - loss: 2.1757 - accuracy: 0.2573 - val_loss: 2.4049 - val_accuracy: 0.2428\n",
      "Epoch 4/10\n",
      "858/858 [==============================] - 6s 7ms/step - loss: 1.9466 - accuracy: 0.3163 - val_loss: 2.5532 - val_accuracy: 0.2393\n",
      "Epoch 5/10\n",
      "858/858 [==============================] - 6s 7ms/step - loss: 1.8377 - accuracy: 0.3502 - val_loss: 1.9913 - val_accuracy: 0.3380\n",
      "Epoch 6/10\n",
      "858/858 [==============================] - 6s 7ms/step - loss: 1.7627 - accuracy: 0.3671 - val_loss: 2.0571 - val_accuracy: 0.3221\n",
      "Epoch 7/10\n",
      "858/858 [==============================] - 6s 7ms/step - loss: 1.6876 - accuracy: 0.3907 - val_loss: 2.1386 - val_accuracy: 0.3122\n",
      "Epoch 8/10\n",
      "858/858 [==============================] - 6s 7ms/step - loss: 1.6255 - accuracy: 0.4105 - val_loss: 2.2301 - val_accuracy: 0.3598\n",
      "Epoch 9/10\n",
      "858/858 [==============================] - 6s 7ms/step - loss: 1.5701 - accuracy: 0.4299 - val_loss: 2.3513 - val_accuracy: 0.3272\n",
      "Epoch 10/10\n",
      "858/858 [==============================] - 6s 7ms/step - loss: 1.5005 - accuracy: 0.4526 - val_loss: 2.4976 - val_accuracy: 0.3404\n",
      "Epoch 1/10\n",
      "858/858 [==============================] - 10s 9ms/step - loss: 3.4904 - accuracy: 0.0485 - val_loss: 3.2543 - val_accuracy: 0.0295\n",
      "Epoch 2/10\n",
      "858/858 [==============================] - 7s 8ms/step - loss: 3.1406 - accuracy: 0.0816 - val_loss: 2.9281 - val_accuracy: 0.1018\n",
      "Epoch 3/10\n",
      "858/858 [==============================] - 7s 8ms/step - loss: 2.7703 - accuracy: 0.1333 - val_loss: 2.9384 - val_accuracy: 0.0894\n",
      "Epoch 4/10\n",
      "858/858 [==============================] - 7s 8ms/step - loss: 2.7985 - accuracy: 0.1293 - val_loss: 2.7298 - val_accuracy: 0.1123\n",
      "Epoch 5/10\n",
      "858/858 [==============================] - 7s 8ms/step - loss: 2.6555 - accuracy: 0.1309 - val_loss: 2.7805 - val_accuracy: 0.1189\n",
      "Epoch 6/10\n",
      "858/858 [==============================] - 7s 8ms/step - loss: 2.9782 - accuracy: 0.1403 - val_loss: 2.9546 - val_accuracy: 0.0957\n",
      "Epoch 7/10\n",
      "858/858 [==============================] - 7s 8ms/step - loss: 2.5867 - accuracy: 0.1422 - val_loss: 2.8276 - val_accuracy: 0.1191\n",
      "Epoch 8/10\n",
      "858/858 [==============================] - 7s 8ms/step - loss: 2.5219 - accuracy: 0.1528 - val_loss: 2.7718 - val_accuracy: 0.0952\n",
      "Epoch 9/10\n",
      "858/858 [==============================] - 7s 8ms/step - loss: 2.4872 - accuracy: 0.1610 - val_loss: 2.6901 - val_accuracy: 0.1257\n",
      "Epoch 10/10\n",
      "858/858 [==============================] - 7s 8ms/step - loss: 2.4250 - accuracy: 0.1675 - val_loss: 2.6326 - val_accuracy: 0.1706\n",
      "Epoch 1/10\n",
      "858/858 [==============================] - 6s 7ms/step - loss: 2.3654 - accuracy: 0.3386 - val_loss: 1.8612 - val_accuracy: 0.5086\n",
      "Epoch 2/10\n",
      "858/858 [==============================] - 5s 6ms/step - loss: 1.4186 - accuracy: 0.5890 - val_loss: 1.4042 - val_accuracy: 0.5874\n",
      "Epoch 3/10\n",
      "858/858 [==============================] - 5s 6ms/step - loss: 1.0740 - accuracy: 0.6795 - val_loss: 1.2317 - val_accuracy: 0.6249\n",
      "Epoch 4/10\n",
      "858/858 [==============================] - 5s 6ms/step - loss: 0.8754 - accuracy: 0.7365 - val_loss: 1.2186 - val_accuracy: 0.6392\n",
      "Epoch 5/10\n",
      "858/858 [==============================] - 5s 6ms/step - loss: 0.7485 - accuracy: 0.7740 - val_loss: 1.0979 - val_accuracy: 0.6669\n",
      "Epoch 6/10\n",
      "858/858 [==============================] - 5s 6ms/step - loss: 0.6517 - accuracy: 0.8050 - val_loss: 1.0495 - val_accuracy: 0.6727\n",
      "Epoch 7/10\n",
      "858/858 [==============================] - 5s 6ms/step - loss: 0.5779 - accuracy: 0.8279 - val_loss: 0.9846 - val_accuracy: 0.6958\n",
      "Epoch 8/10\n",
      "858/858 [==============================] - 5s 6ms/step - loss: 0.4920 - accuracy: 0.8538 - val_loss: 1.1758 - val_accuracy: 0.6416\n",
      "Epoch 9/10\n",
      "858/858 [==============================] - 5s 6ms/step - loss: 0.4321 - accuracy: 0.8748 - val_loss: 0.9649 - val_accuracy: 0.6962\n",
      "Epoch 10/10\n",
      "858/858 [==============================] - 5s 6ms/step - loss: 0.3814 - accuracy: 0.8877 - val_loss: 1.0853 - val_accuracy: 0.6871\n",
      "Epoch 1/10\n",
      "858/858 [==============================] - 6s 7ms/step - loss: 2.3576 - accuracy: 0.3332 - val_loss: 1.8315 - val_accuracy: 0.4657\n",
      "Epoch 2/10\n",
      "858/858 [==============================] - 5s 6ms/step - loss: 1.4219 - accuracy: 0.5846 - val_loss: 1.4032 - val_accuracy: 0.5648\n",
      "Epoch 3/10\n",
      "858/858 [==============================] - 5s 6ms/step - loss: 1.0786 - accuracy: 0.6776 - val_loss: 1.2894 - val_accuracy: 0.5989\n",
      "Epoch 4/10\n",
      "858/858 [==============================] - 5s 6ms/step - loss: 0.8912 - accuracy: 0.7313 - val_loss: 1.1602 - val_accuracy: 0.6390\n",
      "Epoch 5/10\n",
      "858/858 [==============================] - 5s 6ms/step - loss: 0.7610 - accuracy: 0.7707 - val_loss: 1.1532 - val_accuracy: 0.6402\n",
      "Epoch 6/10\n",
      "858/858 [==============================] - 5s 6ms/step - loss: 0.6578 - accuracy: 0.8040 - val_loss: 1.1642 - val_accuracy: 0.6512\n",
      "Epoch 7/10\n",
      "858/858 [==============================] - 5s 6ms/step - loss: 0.5699 - accuracy: 0.8312 - val_loss: 1.0858 - val_accuracy: 0.6824\n",
      "Epoch 8/10\n"
     ]
    },
    {
     "name": "stdout",
     "output_type": "stream",
     "text": [
      "858/858 [==============================] - 5s 6ms/step - loss: 0.4930 - accuracy: 0.8526 - val_loss: 1.0498 - val_accuracy: 0.6847\n",
      "Epoch 9/10\n",
      "858/858 [==============================] - 5s 6ms/step - loss: 0.4417 - accuracy: 0.8702 - val_loss: 1.0330 - val_accuracy: 0.6744\n",
      "Epoch 10/10\n",
      "858/858 [==============================] - 5s 6ms/step - loss: 0.3740 - accuracy: 0.8924 - val_loss: 1.0108 - val_accuracy: 0.6953\n",
      "Epoch 1/10\n",
      "858/858 [==============================] - 8s 8ms/step - loss: 3.0879 - accuracy: 0.1073 - val_loss: 2.8182 - val_accuracy: 0.1604\n",
      "Epoch 2/10\n",
      "858/858 [==============================] - 7s 8ms/step - loss: 2.2208 - accuracy: 0.2569 - val_loss: 1.9907 - val_accuracy: 0.3504\n",
      "Epoch 3/10\n",
      "858/858 [==============================] - 7s 8ms/step - loss: 1.8192 - accuracy: 0.3798 - val_loss: 1.8315 - val_accuracy: 0.4096\n",
      "Epoch 4/10\n",
      "858/858 [==============================] - 7s 8ms/step - loss: 1.5343 - accuracy: 0.4737 - val_loss: 1.6423 - val_accuracy: 0.4860\n",
      "Epoch 5/10\n",
      "858/858 [==============================] - 7s 8ms/step - loss: 1.2941 - accuracy: 0.5558 - val_loss: 2.5772 - val_accuracy: 0.4183\n",
      "Epoch 6/10\n",
      "858/858 [==============================] - 7s 8ms/step - loss: 1.1271 - accuracy: 0.6106 - val_loss: 1.8590 - val_accuracy: 0.5398\n",
      "Epoch 7/10\n",
      "858/858 [==============================] - 7s 8ms/step - loss: 1.0228 - accuracy: 0.6442 - val_loss: 1.9805 - val_accuracy: 0.5055\n",
      "Epoch 8/10\n",
      "858/858 [==============================] - 7s 8ms/step - loss: 0.8847 - accuracy: 0.6885 - val_loss: 2.3012 - val_accuracy: 0.5604\n",
      "Epoch 9/10\n",
      "858/858 [==============================] - 7s 8ms/step - loss: 0.8344 - accuracy: 0.7059 - val_loss: 2.4211 - val_accuracy: 0.4915\n",
      "Epoch 1/10\n",
      "858/858 [==============================] - 8s 8ms/step - loss: 3.2025 - accuracy: 0.0929 - val_loss: 2.9993 - val_accuracy: 0.1419\n",
      "Epoch 2/10\n",
      "858/858 [==============================] - 6s 8ms/step - loss: 2.5071 - accuracy: 0.1975 - val_loss: 2.0468 - val_accuracy: 0.3404\n",
      "Epoch 3/10\n",
      "858/858 [==============================] - 6s 7ms/step - loss: 1.9159 - accuracy: 0.3486 - val_loss: 2.8648 - val_accuracy: 0.3045\n",
      "Epoch 4/10\n",
      "858/858 [==============================] - 6s 7ms/step - loss: 1.6594 - accuracy: 0.4298 - val_loss: 2.2922 - val_accuracy: 0.3763\n",
      "Epoch 5/10\n",
      "858/858 [==============================] - 6s 7ms/step - loss: 1.4703 - accuracy: 0.4883 - val_loss: 1.7940 - val_accuracy: 0.4678\n",
      "Epoch 6/10\n",
      "858/858 [==============================] - 6s 7ms/step - loss: 1.2866 - accuracy: 0.5449 - val_loss: 2.3302 - val_accuracy: 0.4279\n",
      "Epoch 7/10\n",
      "858/858 [==============================] - 6s 7ms/step - loss: 1.1674 - accuracy: 0.5824 - val_loss: 1.9035 - val_accuracy: 0.4746\n",
      "Epoch 8/10\n",
      "858/858 [==============================] - 6s 8ms/step - loss: 1.0934 - accuracy: 0.6061 - val_loss: 2.1639 - val_accuracy: 0.4835\n",
      "Epoch 9/10\n",
      "858/858 [==============================] - 6s 7ms/step - loss: 1.0175 - accuracy: 0.6327 - val_loss: 2.3849 - val_accuracy: 0.4480\n",
      "Epoch 10/10\n",
      "858/858 [==============================] - 7s 8ms/step - loss: 0.9376 - accuracy: 0.6595 - val_loss: 2.8764 - val_accuracy: 0.4248\n"
     ]
    }
   ],
   "source": [
    "max_valacc = 0\n",
    "\n",
    "for learning_rate in [0.001,0.01]:\n",
    "    for optimizer in [keras.optimizers.SGD,keras.optimizers.Nadam]:\n",
    "        for acfn in ['relu','selu']:\n",
    "            valacc, history, model = do_all_dense(hiddensizes, actfn, optimizer, learningrate, n_train, n_valid, n_epochs, batch_size)\n",
    "            if valacc > max_valacc:\n",
    "                max_valacc = valacc\n",
    "                max_learning_rate = learning_rate\n",
    "                max_optimizer = optimizer\n",
    "                max_acfn = acfn\n",
    "                best_history = history"
   ]
  },
  {
   "cell_type": "code",
   "execution_count": 28,
   "metadata": {},
   "outputs": [
    {
     "name": "stdout",
     "output_type": "stream",
     "text": [
      "the max val accurency after trained is 0.7125675678253174 with the model: max_learning_rate: 0.001, max_optimizer: <class 'keras.optimizers.optimizer_v2.gradient_descent.SGD'>, max_acfn: relu\n"
     ]
    }
   ],
   "source": [
    "print(f'the max val accurency after trained is {max_valacc} with the model: max_learning_rate: {max_learning_rate}, max_optimizer: {max_optimizer}, max_acfn: {max_acfn}')"
   ]
  },
  {
   "cell_type": "code",
   "execution_count": 29,
   "metadata": {},
   "outputs": [
    {
     "data": {
      "image/png": "[encoded data removed]",
      "text/plain": [
       "<Figure size 576x360 with 1 Axes>"
      ]
     },
     "metadata": {
      "needs_background": "light"
     },
     "output_type": "display_data"
    }
   ],
   "source": [
    "#look at the graph\n",
    "plot_history(best_history)"
   ]
  },
  {
   "cell_type": "markdown",
   "metadata": {},
   "source": [
    "# Comparison of models, selection"
   ]
  },
  {
   "cell_type": "markdown",
   "metadata": {},
   "source": [
    "## for cnn"
   ]
  },
  {
   "cell_type": "code",
   "execution_count": 30,
   "metadata": {},
   "outputs": [
    {
     "name": "stdout",
     "output_type": "stream",
     "text": [
      "Epoch 1/10\n",
      "858/858 [==============================] - 23s 24ms/step - loss: 0.3503 - accuracy: 0.9059 - val_loss: 0.3516 - val_accuracy: 0.8963\n",
      "Epoch 2/10\n",
      "858/858 [==============================] - 20s 23ms/step - loss: 0.0033 - accuracy: 1.0000 - val_loss: 0.3882 - val_accuracy: 0.9078\n",
      "Epoch 3/10\n",
      "858/858 [==============================] - 20s 23ms/step - loss: 0.2465 - accuracy: 0.9757 - val_loss: 0.4697 - val_accuracy: 0.8883\n",
      "Epoch 4/10\n",
      "858/858 [==============================] - 20s 23ms/step - loss: 0.0024 - accuracy: 1.0000 - val_loss: 0.4687 - val_accuracy: 0.8975\n",
      "Epoch 5/10\n",
      "858/858 [==============================] - 20s 23ms/step - loss: 0.0010 - accuracy: 1.0000 - val_loss: 0.4941 - val_accuracy: 0.8940\n",
      "Epoch 6/10\n",
      "858/858 [==============================] - 20s 23ms/step - loss: 5.4830e-04 - accuracy: 1.0000 - val_loss: 0.4834 - val_accuracy: 0.9008\n"
     ]
    }
   ],
   "source": [
    "# we use the test set to see the performance\n",
    "actfn = 'selu'\n",
    "optimizer = keras.optimizers.Nadam\n",
    "learningrate = 0.001\n",
    "valacc, history, model = do_all_cnn(hiddensizes, actfn, optimizer, learningrate, n_train, n_valid, n_epochs, batch_size)"
   ]
  },
  {
   "cell_type": "code",
   "execution_count": 31,
   "metadata": {},
   "outputs": [
    {
     "name": "stdout",
     "output_type": "stream",
     "text": [
      "the max validation accurrency for cnn is 0.9077915549278259\n"
     ]
    }
   ],
   "source": [
    "print(f'the max validation accurrency for cnn is {valacc}')"
   ]
  },
  {
   "cell_type": "code",
   "execution_count": 32,
   "metadata": {},
   "outputs": [
    {
     "name": "stdout",
     "output_type": "stream",
     "text": [
      "Test Loss :  0.3926527798175812\n",
      "Test Accuracy :  0.889895498752594\n"
     ]
    }
   ],
   "source": [
    "score = model.evaluate(X_test,y_test,verbose=0)\n",
    "print(\"Test Loss : \", score[0])\n",
    "print(\"Test Accuracy : \", score[1])"
   ]
  },
  {
   "cell_type": "markdown",
   "metadata": {},
   "source": [
    "### for dense"
   ]
  },
  {
   "cell_type": "code",
   "execution_count": 33,
   "metadata": {},
   "outputs": [
    {
     "name": "stdout",
     "output_type": "stream",
     "text": [
      "Epoch 1/10\n",
      "858/858 [==============================] - 6s 6ms/step - loss: 2.0139 - accuracy: 0.4039 - val_loss: 1.5963 - val_accuracy: 0.5175\n",
      "Epoch 2/10\n",
      "858/858 [==============================] - 5s 6ms/step - loss: 1.1478 - accuracy: 0.6533 - val_loss: 1.7335 - val_accuracy: 0.5093\n",
      "Epoch 3/10\n",
      "858/858 [==============================] - 5s 6ms/step - loss: 0.8749 - accuracy: 0.7383 - val_loss: 1.1639 - val_accuracy: 0.6347\n",
      "Epoch 4/10\n",
      "858/858 [==============================] - 5s 6ms/step - loss: 0.7227 - accuracy: 0.7808 - val_loss: 1.1705 - val_accuracy: 0.6329\n",
      "Epoch 5/10\n",
      "858/858 [==============================] - 5s 6ms/step - loss: 0.5882 - accuracy: 0.8250 - val_loss: 1.0464 - val_accuracy: 0.6821\n",
      "Epoch 6/10\n",
      "858/858 [==============================] - 5s 6ms/step - loss: 0.4888 - accuracy: 0.8585 - val_loss: 1.0748 - val_accuracy: 0.7056\n",
      "Epoch 7/10\n",
      "858/858 [==============================] - 5s 6ms/step - loss: 0.4057 - accuracy: 0.8825 - val_loss: 1.0408 - val_accuracy: 0.6986\n",
      "Epoch 8/10\n",
      "858/858 [==============================] - 5s 6ms/step - loss: 0.3476 - accuracy: 0.9030 - val_loss: 0.9881 - val_accuracy: 0.7162\n",
      "Epoch 9/10\n",
      "858/858 [==============================] - 5s 6ms/step - loss: 0.2831 - accuracy: 0.9239 - val_loss: 0.9418 - val_accuracy: 0.7235\n",
      "Epoch 10/10\n",
      "858/858 [==============================] - 5s 6ms/step - loss: 0.2347 - accuracy: 0.9398 - val_loss: 0.9903 - val_accuracy: 0.7256\n"
     ]
    }
   ],
   "source": [
    "# we use the test set to see the performance\n",
    "actfn = 'selu'\n",
    "optimizer = keras.optimizers.SGD\n",
    "learningrate = 0.01\n",
    "valacc, history, model = do_all_dense(hiddensizes, actfn, optimizer, learningrate, n_train, n_valid, n_epochs, batch_size)"
   ]
  },
  {
   "cell_type": "code",
   "execution_count": 34,
   "metadata": {},
   "outputs": [
    {
     "name": "stdout",
     "output_type": "stream",
     "text": [
      "the max validation accurrency for dense is 0.725640594959259\n"
     ]
    }
   ],
   "source": [
    "print(f'the max validation accurrency for dense is {valacc}')"
   ]
  },
  {
   "cell_type": "code",
   "execution_count": 35,
   "metadata": {},
   "outputs": [
    {
     "name": "stdout",
     "output_type": "stream",
     "text": [
      "Test Loss :  1.0389772653579712\n",
      "Test Accuracy :  0.7114982604980469\n"
     ]
    }
   ],
   "source": [
    "score = model.evaluate(X_test,y_test,verbose=0)\n",
    "print(\"Test Loss : \", score[0])\n",
    "print(\"Test Accuracy : \", score[1])"
   ]
  },
  {
   "cell_type": "code",
   "execution_count": 36,
   "metadata": {},
   "outputs": [
    {
     "data": {
      "text/plain": [
       "\"the cnn model with  actfn = 'selu', optimizer =keras.optimizers.Nadam, learningrate =0.01 tested to be the best model\""
      ]
     },
     "execution_count": 36,
     "metadata": {},
     "output_type": "execute_result"
    }
   ],
   "source": [
    "'''the cnn model with  actfn = 'selu', optimizer =keras.optimizers.Nadam, learningrate =0.01 tested to be the best model''' "
   ]
  },
  {
   "cell_type": "code",
   "execution_count": null,
   "metadata": {},
   "outputs": [],
   "source": []
  }
 ],
 "metadata": {
  "kernelspec": {
   "display_name": "Python 3 (ipykernel)",
   "language": "python",
   "name": "python3"
  },
  "language_info": {
   "codemirror_mode": {
    "name": "ipython",
    "version": 3
   },
   "file_extension": ".py",
   "mimetype": "text/x-python",
   "name": "python",
   "nbconvert_exporter": "python",
   "pygments_lexer": "ipython3",
   "version": "3.9.7"
  }
 },
 "nbformat": 4,
 "nbformat_minor": 4
}
