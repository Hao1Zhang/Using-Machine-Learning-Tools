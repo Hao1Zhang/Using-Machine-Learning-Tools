{
 "cells": [
  {
   "cell_type": "markdown",
   "metadata": {},
   "source": [
    "# Workshop 3\n",
    "\n",
    "Starter code for workshop 3. You should have seen most of it before, but make sure you understand what it is doing!"
   ]
  },
  {
   "cell_type": "code",
   "execution_count": 101,
   "metadata": {},
   "outputs": [],
   "source": [
    "# Python ≥3.5 is required\n",
    "import sys\n",
    "assert sys.version_info >= (3, 5)\n",
    "\n",
    "# Scikit-Learn ≥0.20 is required\n",
    "import sklearn\n",
    "assert sklearn.__version__ >= \"0.20\"\n",
    "\n",
    "# Common imports\n",
    "import numpy as np\n",
    "import os\n",
    "\n",
    "# To plot pretty figures\n",
    "%matplotlib inline\n",
    "import matplotlib as mpl\n",
    "import matplotlib.pyplot as plt\n",
    "mpl.rc('axes', labelsize=14)\n",
    "mpl.rc('xtick', labelsize=12)\n",
    "mpl.rc('ytick', labelsize=12)"
   ]
  },
  {
   "cell_type": "code",
   "execution_count": 102,
   "metadata": {},
   "outputs": [
    {
     "data": {
      "text/html": [
       "<div>\n",
       "<style scoped>\n",
       "    .dataframe tbody tr th:only-of-type {\n",
       "        vertical-align: middle;\n",
       "    }\n",
       "\n",
       "    .dataframe tbody tr th {\n",
       "        vertical-align: top;\n",
       "    }\n",
       "\n",
       "    .dataframe thead th {\n",
       "        text-align: right;\n",
       "    }\n",
       "</style>\n",
       "<table border=\"1\" class=\"dataframe\">\n",
       "  <thead>\n",
       "    <tr style=\"text-align: right;\">\n",
       "      <th></th>\n",
       "      <th>longitude</th>\n",
       "      <th>latitude</th>\n",
       "      <th>housing_median_age</th>\n",
       "      <th>total_rooms</th>\n",
       "      <th>total_bedrooms</th>\n",
       "      <th>population</th>\n",
       "      <th>households</th>\n",
       "      <th>median_income</th>\n",
       "      <th>median_house_value</th>\n",
       "    </tr>\n",
       "  </thead>\n",
       "  <tbody>\n",
       "    <tr>\n",
       "      <th>0</th>\n",
       "      <td>-122.23</td>\n",
       "      <td>37.88</td>\n",
       "      <td>41</td>\n",
       "      <td>880</td>\n",
       "      <td>129.0</td>\n",
       "      <td>322</td>\n",
       "      <td>126</td>\n",
       "      <td>8.3252</td>\n",
       "      <td>452600</td>\n",
       "    </tr>\n",
       "    <tr>\n",
       "      <th>1</th>\n",
       "      <td>-122.22</td>\n",
       "      <td>37.86</td>\n",
       "      <td>21</td>\n",
       "      <td>7099</td>\n",
       "      <td>1106.0</td>\n",
       "      <td>2401</td>\n",
       "      <td>1138</td>\n",
       "      <td>8.3014</td>\n",
       "      <td>358500</td>\n",
       "    </tr>\n",
       "    <tr>\n",
       "      <th>2</th>\n",
       "      <td>-122.24</td>\n",
       "      <td>37.85</td>\n",
       "      <td>52</td>\n",
       "      <td>1467</td>\n",
       "      <td>190.0</td>\n",
       "      <td>496</td>\n",
       "      <td>177</td>\n",
       "      <td>7.2574</td>\n",
       "      <td>352100</td>\n",
       "    </tr>\n",
       "    <tr>\n",
       "      <th>3</th>\n",
       "      <td>-122.25</td>\n",
       "      <td>37.85</td>\n",
       "      <td>52</td>\n",
       "      <td>1274</td>\n",
       "      <td>235.0</td>\n",
       "      <td>558</td>\n",
       "      <td>219</td>\n",
       "      <td>5.6431</td>\n",
       "      <td>341300</td>\n",
       "    </tr>\n",
       "    <tr>\n",
       "      <th>4</th>\n",
       "      <td>-122.25</td>\n",
       "      <td>37.85</td>\n",
       "      <td>52</td>\n",
       "      <td>1627</td>\n",
       "      <td>280.0</td>\n",
       "      <td>565</td>\n",
       "      <td>259</td>\n",
       "      <td>3.8462</td>\n",
       "      <td>342200</td>\n",
       "    </tr>\n",
       "  </tbody>\n",
       "</table>\n",
       "</div>"
      ],
      "text/plain": [
       "   longitude  latitude  housing_median_age  total_rooms  total_bedrooms  \\\n",
       "0    -122.23     37.88                  41          880           129.0   \n",
       "1    -122.22     37.86                  21         7099          1106.0   \n",
       "2    -122.24     37.85                  52         1467           190.0   \n",
       "3    -122.25     37.85                  52         1274           235.0   \n",
       "4    -122.25     37.85                  52         1627           280.0   \n",
       "\n",
       "   population  households  median_income  median_house_value  \n",
       "0         322         126         8.3252              452600  \n",
       "1        2401        1138         8.3014              358500  \n",
       "2         496         177         7.2574              352100  \n",
       "3         558         219         5.6431              341300  \n",
       "4         565         259         3.8462              342200  "
      ]
     },
     "execution_count": 102,
     "metadata": {},
     "output_type": "execute_result"
    }
   ],
   "source": [
    "import pandas as pd\n",
    "\n",
    "housing = pd.read_csv(\"workshop3.csv\")\n",
    "housing.head()"
   ]
  },
  {
   "cell_type": "markdown",
   "metadata": {},
   "source": [
    "Split the available data 80/20 for training and testing. Don't use the test data until the very end!"
   ]
  },
  {
   "cell_type": "code",
   "execution_count": 103,
   "metadata": {},
   "outputs": [],
   "source": [
    "from sklearn.model_selection import train_test_split\n",
    "\n",
    "train_set, test_set = train_test_split(housing, test_size=0.2, random_state=42)"
   ]
  },
  {
   "cell_type": "markdown",
   "metadata": {},
   "source": [
    "median_house_value is the value we want to predict, so separate it from the other features."
   ]
  },
  {
   "cell_type": "code",
   "execution_count": 104,
   "metadata": {},
   "outputs": [],
   "source": [
    "#training_features = train_set.drop([\"median_house_value\"], axis=1)\n",
    "#training_labels = train_set[\"median_house_value\"].copy()\n",
    "\n",
    "X_train = train_set.drop([\"median_house_value\"],axis =1)\n",
    "y_train = train_set[\"median_house_value\"].copy()\n",
    "X_test  = test_set.drop([\"median_house_value\"],axis=1)\n",
    "y_test  = test_set[\"median_house_value\"].copy()"
   ]
  },
  {
   "cell_type": "code",
   "execution_count": 105,
   "metadata": {},
   "outputs": [],
   "source": [
    "# from sklearn.kernel_ridge import KernelRidge\n",
    "# #make the pipeline\n",
    "# krr_pl = Pipeline( [('imputer',SimpleImputer(strategy = \"median\")),\n",
    "#                   ('std_scaler',StandardScaler() ),('krr',KernelRidge())])\n",
    "\n",
    "# #fit the krr\n",
    "# krr_pl.fit(X_train,y_train)\n",
    "# y_pred = krr_pl.predict(X_train)\n",
    "\n",
    "# #visualisation\n",
    "# plt.suptitle(\"real bike rentals vs predicted bike rentals by KernelRidge\")\n",
    "# plt.xlabel(\"real bike rentals\")\n",
    "# plt.ylabel(\"predicted bike rentals\")\n",
    "# plt.scatter(y_train,y_pred)\n",
    "# plt.plot(y_train,y_train,'r-o', label = \"real bike rentals\")\n",
    "# plt.legend()\n",
    "# plt.show()\n",
    "\n",
    "# #calculate the rmse of the fit to the training data. \n",
    "\n",
    "# rmse_krr = np.sqrt(mean_squared_error(y_pred,y_train))\n",
    "# print(rmse_krr) #852.1499482091169"
   ]
  },
  {
   "cell_type": "markdown",
   "metadata": {},
   "source": [
    "Your code starts here..."
   ]
  },
  {
   "cell_type": "code",
   "execution_count": 106,
   "metadata": {},
   "outputs": [],
   "source": [
    "from sklearn.pipeline import Pipeline\n",
    "from sklearn.linear_model import LinearRegression\n",
    "from sklearn.preprocessing import StandardScaler\n",
    "from sklearn.impute import SimpleImputer\n",
    "\n",
    "lr_pl = Pipeline( [('imputer',SimpleImputer(strategy = \"median\")),\n",
    "                  ('std_scaler',StandardScaler() ),('lr',LinearRegression())])\n",
    "lr_pl.fit(X_train,y_train)\n",
    "y_pred = lr_pl.predict(X_train)"
   ]
  },
  {
   "cell_type": "code",
   "execution_count": 107,
   "metadata": {},
   "outputs": [
    {
     "data": {
      "text/plain": [
       "[<matplotlib.lines.Line2D at 0x1baafe6b4f0>]"
      ]
     },
     "execution_count": 107,
     "metadata": {},
     "output_type": "execute_result"
    },
    {
     "data": {
      "image/png": "[encoded data removed]",
      "text/plain": [
       "<Figure size 432x288 with 1 Axes>"
      ]
     },
     "metadata": {
      "needs_background": "light"
     },
     "output_type": "display_data"
    }
   ],
   "source": [
    "plt.scatter(y_train,y_pred)\n",
    "plt.plot(y_train,y_train,'r-o')"
   ]
  },
  {
   "cell_type": "code",
   "execution_count": 108,
   "metadata": {},
   "outputs": [
    {
     "name": "stdout",
     "output_type": "stream",
     "text": [
      "69411.6554100667\n"
     ]
    }
   ],
   "source": [
    "from sklearn.metrics import mean_squared_error\n",
    "rmse_lr = np.sqrt(mean_squared_error(y_pred,y_train))\n",
    "print(rmse_lr)"
   ]
  },
  {
   "cell_type": "code",
   "execution_count": 109,
   "metadata": {},
   "outputs": [
    {
     "name": "stdout",
     "output_type": "stream",
     "text": [
      "69411.6554100667\n"
     ]
    }
   ],
   "source": [
    "from sklearn.neighbors import KNeighborsRegressor\n",
    "knn_pl = Pipeline( [('imputer',SimpleImputer(strategy = \"median\")),\n",
    "                  ('std_scaler',StandardScaler() ),('knn',KNeighborsRegressor())])\n",
    "lr_pl.fit(X_train,y_train)\n",
    "y_pred = lr_pl.predict(X_train)\n",
    "\n",
    "rmse_knn = np.sqrt(mean_squared_error(y_pred,y_train))\n",
    "print(rmse_knn)"
   ]
  },
  {
   "cell_type": "code",
   "execution_count": 110,
   "metadata": {},
   "outputs": [
    {
     "name": "stdout",
     "output_type": "stream",
     "text": [
      "RMSE for KNN with k=3 and w=uniform is 44946.482457374426\n",
      "RMSE for KNN with k=3 and w=distance is 0.0\n",
      "RMSE for KNN with k=4 and w=uniform is 48109.20195609117\n",
      "RMSE for KNN with k=4 and w=distance is 0.0\n",
      "RMSE for KNN with k=5 and w=uniform is 50024.5694885547\n",
      "RMSE for KNN with k=5 and w=distance is 0.0\n",
      "RMSE for KNN with k=6 and w=uniform is 51495.80610558386\n",
      "RMSE for KNN with k=6 and w=distance is 0.0\n",
      "RMSE for KNN with k=7 and w=uniform is 52731.459848586375\n",
      "RMSE for KNN with k=7 and w=distance is 0.0\n",
      "RMSE for KNN with k=8 and w=uniform is 53701.107545337065\n",
      "RMSE for KNN with k=8 and w=distance is 0.0\n",
      "RMSE for KNN with k=9 and w=uniform is 54427.59277615538\n",
      "RMSE for KNN with k=9 and w=distance is 0.0\n",
      "RMSE for KNN with k=10 and w=uniform is 55141.09845299509\n",
      "RMSE for KNN with k=10 and w=distance is 0.0\n",
      "RMSE for KNN with k=11 and w=uniform is 55654.61354701113\n",
      "RMSE for KNN with k=11 and w=distance is 0.0\n",
      "RMSE for KNN with k=12 and w=uniform is 56127.884542680054\n",
      "RMSE for KNN with k=12 and w=distance is 0.0\n",
      "RMSE for KNN with k=13 and w=uniform is 56576.614002452414\n",
      "RMSE for KNN with k=13 and w=distance is 0.0\n",
      "RMSE for KNN with k=14 and w=uniform is 57005.17953204106\n",
      "RMSE for KNN with k=14 and w=distance is 0.0\n",
      "RMSE for KNN with k=15 and w=uniform is 57326.44193521339\n",
      "RMSE for KNN with k=15 and w=distance is 0.0\n",
      "RMSE for KNN with k=16 and w=uniform is 57651.19714526453\n",
      "RMSE for KNN with k=16 and w=distance is 0.0\n",
      "RMSE for KNN with k=17 and w=uniform is 57952.712297160666\n",
      "RMSE for KNN with k=17 and w=distance is 0.0\n",
      "RMSE for KNN with k=18 and w=uniform is 58211.763371723435\n",
      "RMSE for KNN with k=18 and w=distance is 0.0\n",
      "RMSE for KNN with k=19 and w=uniform is 58468.85154343703\n",
      "RMSE for KNN with k=19 and w=distance is 0.0\n"
     ]
    }
   ],
   "source": [
    "for k in range(3,20):\n",
    "    for w in [ 'uniform','distance']:\n",
    "        knn_pl = Pipeline([ ('imputer', SimpleImputer(strategy=\"median\")),\n",
    "                            ('std_scaler',StandardScaler() ),('knn',KNeighborsRegressor(n_neighbors=k,weights=w))])\n",
    "        knn_pl.fit(X_train,y_train)\n",
    "        y_pred = knn_pl.predict(X_train)\n",
    "        rmse_knn = np.sqrt(mean_squared_error(y_pred,y_train))\n",
    "        print(f'RMSE for KNN with k={k} and w={w} is {rmse_knn}')\n",
    "\n",
    "        \n",
    "                           \n",
    "        \n",
    "\n"
   ]
  },
  {
   "cell_type": "code",
   "execution_count": 111,
   "metadata": {},
   "outputs": [],
   "source": [
    "from sklearn.model_selection import KFold\n",
    "from sklearn.model_selection import GridSearchCV"
   ]
  },
  {
   "cell_type": "code",
   "execution_count": 112,
   "metadata": {},
   "outputs": [],
   "source": [
    "# X_train = X_train.to_numpy()\n",
    "# y_train = y_train.to_numpy()"
   ]
  },
  {
   "cell_type": "code",
   "execution_count": 113,
   "metadata": {},
   "outputs": [],
   "source": [
    "knn_pl = Pipeline([ ('imputer', SimpleImputer(strategy=\"median\")),\n",
    "                            ('std_scaler',StandardScaler() ),('knn',KNeighborsRegressor(n_neighbors=10,weights='uniform'))])\n"
   ]
  },
  {
   "cell_type": "code",
   "execution_count": 114,
   "metadata": {},
   "outputs": [],
   "source": [
    "from sklearn.model_selection import cross_validate\n",
    "from sklearn.model_selection import cross_val_score"
   ]
  },
  {
   "cell_type": "code",
   "execution_count": 115,
   "metadata": {},
   "outputs": [
    {
     "name": "stdout",
     "output_type": "stream",
     "text": [
      "[-59662.52198744 -64107.28367433 -59657.94262349 -62793.98210181\n",
      " -62193.41178648]\n"
     ]
    }
   ],
   "source": [
    "cv_res = cross_val_score( knn_pl, X_train, y_train, cv= 5, scoring='neg_root_mean_squared_error')\n",
    "print(cv_res)\n"
   ]
  },
  {
   "cell_type": "code",
   "execution_count": 116,
   "metadata": {},
   "outputs": [
    {
     "name": "stdout",
     "output_type": "stream",
     "text": [
      "[59662.52198744 64107.28367433 59657.94262349 62793.98210181\n",
      " 62193.41178648]\n",
      "61683.02843470842\n"
     ]
    }
   ],
   "source": [
    "cv_results= cross_validate( knn_pl, X_train, y_train, cv=5, scoring='neg_root_mean_squared_error')\n",
    "print(-cv_results['test_score'])\n",
    "print(np.mean(-cv_results['test_score']))"
   ]
  },
  {
   "cell_type": "code",
   "execution_count": 117,
   "metadata": {},
   "outputs": [
    {
     "name": "stdout",
     "output_type": "stream",
     "text": [
      "VAL RMSE for KNN is 59662.52198744072\n",
      "TRAIN RMSE for KNN is 56188.72108134248\n",
      "VAL RMSE for KNN is 64107.28367432653\n",
      "TRAIN RMSE for KNN is 55252.40265086739\n",
      "VAL RMSE for KNN is 59657.942623488576\n",
      "TRAIN RMSE for KNN is 56264.37803425075\n",
      "VAL RMSE for KNN is 62793.98210180659\n",
      "TRAIN RMSE for KNN is 55634.29710235575\n",
      "VAL RMSE for KNN is 62193.411786479715\n",
      "TRAIN RMSE for KNN is 55866.40889813549\n"
     ]
    }
   ],
   "source": [
    "kf = KFold(n_splits =5)\n",
    "kf.get_n_splits(X_train)\n",
    "for train_index, val_index in kf.split(X_train):\n",
    "    X_trainr,X_val =X_train.iloc[train_index],X_train.iloc[val_index]\n",
    "    y_trainr,y_val =y_train.iloc[train_index],y_train.iloc[val_index]\n",
    "    \n",
    "    knn_pl.fit(X_trainr,y_trainr)\n",
    "    y_pred = knn_pl.predict(X_val)\n",
    "    rmse_knn = np.sqrt(mean_squared_error(y_pred,y_val))\n",
    "    print(f'VAL RMSE for KNN is {rmse_knn}')\n",
    "    \n",
    "    y_pred = knn_pl.predict(X_trainr)\n",
    "    rmse_knn = np.sqrt(mean_squared_error(y_pred,y_trainr))\n",
    "    print(f'TRAIN RMSE for KNN is {rmse_knn}')\n",
    "    \n",
    "\n",
    "    \n",
    "    \n",
    "\n"
   ]
  },
  {
   "cell_type": "code",
   "execution_count": 118,
   "metadata": {},
   "outputs": [
    {
     "name": "stdout",
     "output_type": "stream",
     "text": [
      "[56188.72108134 55252.40265087 56264.37803425 55634.29710236\n",
      " 55866.40889814]\n",
      "[59662.52198744 64107.28367433 59657.94262349 62793.98210181\n",
      " 62193.41178648]\n",
      "61683.02843470842\n"
     ]
    }
   ],
   "source": [
    "cv_results=cross_validate( knn_pl, X_train, y_train, cv=5, return_train_score= True, scoring='neg_root_mean_squared_error') \n",
    "print(-cv_results['train_score'])\n",
    "print(-cv_results['test_score'])\n",
    "print( np.mean(-cv_results['test_score']))\n"
   ]
  },
  {
   "cell_type": "code",
   "execution_count": 126,
   "metadata": {},
   "outputs": [
    {
     "name": "stdout",
     "output_type": "stream",
     "text": [
      "Best score is 61025.02443587534 for best params of {'knn__n_neighbors': 10, 'knn__weights': 'distance'}\n"
     ]
    }
   ],
   "source": [
    "parameters = {'knn__n_neighbors':[3,5,10,20,30,50], 'knn__weights':['uniform','distance']}\n",
    "gridcv = GridSearchCV(knn_pl, parameters, cv=5, scoring='neg_root_mean_squared_error')\n",
    "gridcv.fit(X_train, y_train)\n",
    "print(f'Best score is {-gridcv.best_score_} for best params of {gridcv.best_params_}')  "
   ]
  },
  {
   "cell_type": "code",
   "execution_count": null,
   "metadata": {},
   "outputs": [],
   "source": []
  },
  {
   "cell_type": "code",
   "execution_count": null,
   "metadata": {},
   "outputs": [],
   "source": []
  }
 ],
 "metadata": {
  "kernelspec": {
   "display_name": "Python 3 (ipykernel)",
   "language": "python",
   "name": "python3"
  },
  "language_info": {
   "codemirror_mode": {
    "name": "ipython",
    "version": 3
   },
   "file_extension": ".py",
   "mimetype": "text/x-python",
   "name": "python",
   "nbconvert_exporter": "python",
   "pygments_lexer": "ipython3",
   "version": "3.9.7"
  }
 },
 "nbformat": 4,
 "nbformat_minor": 2
}
